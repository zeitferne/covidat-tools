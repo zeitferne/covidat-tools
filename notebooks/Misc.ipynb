{
 "cells": [
  {
   "cell_type": "code",
   "execution_count": null,
   "id": "4c3ea25f",
   "metadata": {
    "ExecuteTime": {
     "end_time": "2023-07-17T08:22:20.019834Z",
     "start_time": "2023-07-17T08:22:19.972203Z"
    }
   },
   "outputs": [],
   "source": [
    "import locale\n",
    "locale.setlocale(locale.LC_ALL, \"de_AT.UTF-8\");"
   ]
  },
  {
   "cell_type": "code",
   "execution_count": null,
   "id": "0cdd91e1",
   "metadata": {
    "ExecuteTime": {
     "end_time": "2023-07-17T08:22:20.030831Z",
     "start_time": "2023-07-17T08:22:20.024833Z"
    }
   },
   "outputs": [],
   "source": [
    "import sys, os.path\n",
    "sys.path.append(os.path.abspath(\"../src\"))"
   ]
  },
  {
   "cell_type": "code",
   "execution_count": null,
   "id": "2e721fdc",
   "metadata": {
    "ExecuteTime": {
     "end_time": "2023-07-17T08:22:28.552018Z",
     "start_time": "2023-07-17T08:22:20.035832Z"
    }
   },
   "outputs": [],
   "source": [
    "%matplotlib inline\n",
    "%precision %.4f\n",
    "#%load_ext snakeviz\n",
    "import colorcet\n",
    "import pandas as pd\n",
    "from scipy import stats\n",
    "import matplotlib.pyplot as plt\n",
    "import matplotlib.dates\n",
    "import matplotlib.ticker\n",
    "import matplotlib.patches\n",
    "import matplotlib.colors\n",
    "import seaborn as sns\n",
    "from importlib import reload\n",
    "from itertools import count\n",
    "from datetime import date, datetime, timedelta\n",
    "from IPython.display import display, Markdown, HTML\n",
    "import textwrap\n",
    "from functools import partial\n",
    "from cycler import cycler\n",
    "import re\n",
    "import util\n",
    "\n",
    "import cov\n",
    "cov=reload(cov)\n",
    "\n",
    "pd.options.display.precision = 4\n",
    "\n",
    "cov = reload(cov)\n",
    "\n",
    "plt.rcParams['figure.figsize'] = (16*0.7,9*0.7)\n",
    "plt.rcParams['figure.dpi'] =  120 #80\n",
    "plt.rcParams['figure.facecolor'] = '#fff'\n",
    "sns.set_theme(style=\"whitegrid\")\n",
    "sns.set_palette('tab10')\n",
    "\n",
    "plt.rcParams['image.cmap'] = cov.un_cmap\n",
    "\n",
    "pd.options.display.max_rows = 120\n",
    "pd.options.display.min_rows = 40"
   ]
  },
  {
   "cell_type": "code",
   "execution_count": null,
   "id": "96029a97",
   "metadata": {
    "ExecuteTime": {
     "end_time": "2023-07-17T08:22:28.565964Z",
     "start_time": "2023-07-17T08:22:28.556030Z"
    }
   },
   "outputs": [],
   "source": [
    "util.DATAROOT"
   ]
  },
  {
   "cell_type": "code",
   "execution_count": null,
   "id": "5181cefd",
   "metadata": {
    "ExecuteTime": {
     "end_time": "2023-07-17T08:22:49.026054Z",
     "start_time": "2023-07-17T08:22:28.569975Z"
    }
   },
   "outputs": [],
   "source": [
    "from pathlib import Path\n",
    "\n",
    "def _ks_colnames(sfx):\n",
    "    return [c + sfx for c in KS_BASECOLS]\n",
    "KS_BASECOLS = [\"insured\", \"cases\", \"cases_p1000\", \"active_end\", \"active_end_p1000\"]\n",
    "KS_COLNAMES = [\"id\", \"insurer\",] + _ks_colnames(\"-ArbeiterInnen\") + _ks_colnames(\"-Angestellte\")\n",
    "KS_FNAME_RE = re.compile(\"Mb_(\\d\\d)(\\d\\d)\")\n",
    "\n",
    "def load_ks(pth):\n",
    "    m = KS_FNAME_RE.fullmatch(pth.stem)\n",
    "    if not m:\n",
    "        raise ValueError(\"Unexpected filename stem: '\" + pth.stem + \"' in: \" + str(pth))\n",
    "    year = 2000 + int(m.group(1))\n",
    "    month = int(m.group(2))\n",
    "    \n",
    "    ks = pd.read_excel(\n",
    "        pth,\n",
    "        sheet_name=\"Tab16\",\n",
    "        skiprows=9,\n",
    "        header=None,\n",
    "        names=KS_COLNAMES\n",
    "        )\n",
    "    ks.dropna(thresh=3, inplace=True)\n",
    "    if pd.isna(ks[\"insurer\"].iloc[0]):\n",
    "        raise ValueError(\"Missing insurer\")\n",
    "    ks[\"date\"] = (ks[\"id\"] % 2).map(\n",
    "        lambda odd: pd.Period(year=year if odd else year - 1, month=month, freq=\"M\"))\n",
    "    return ks\n",
    "\n",
    "def collect_ks():\n",
    "    ks = pd.concat([load_ks(pth) for pth in (util.DATAROOT / \"sozialversicherung-monatsberichte\").glob(\"Mb_????.xls*\")])\n",
    "    ks[\"insurer\"].replace(\n",
    "        \"I n s g e s a m t|insgesamt|ASVG-Krankenkassen\", \"Insgesamt\", regex=True, inplace=True)\n",
    "    ks[\"insurer\"].replace(\n",
    "        r\"VA f\\. Eisenb\\.u\\.Bergbau|Abteilung A\",\n",
    "        \"VA f. Eisenb.u.Bergbau Abteilung A\", regex=True, inplace=True)\n",
    "    #ks[\"insurer\"].replace(\"Gebietskrankenkassen\", \"Österr. Gesundheitskasse\", inplace=True)\n",
    "    \n",
    "    # Comment next line out to represent the time series break\n",
    "    ks[\"insurer\"] = ks[\"insurer\"].str.removeprefix(\"GKK \")\n",
    "    ks[\"insurer\"] = ks[\"insurer\"].str.strip()\n",
    "    ks.ffill(inplace=True, limit=1)\n",
    "    #display(ks)\n",
    "    ks = pd.wide_to_long(\n",
    "        ks, KS_BASECOLS, [\"id\", \"date\", \"insurer\"], \"employment\", sep=\"-\",\n",
    "        suffix=\"(ArbeiterInnen|Angestellte)\").reset_index()\n",
    "    mask = np.round(ks[\"cases\"] / ks[\"insured\"] * 1000) != ks[\"cases_p1000\"]\n",
    "    if mask.any():\n",
    "        raise ValueError(\"Mismatch of cases_p1000 at \" + ks.loc[mask].to_csv(sep=\";\"))\n",
    "    mask = np.round(ks[\"active_end\"] / ks[\"insured\"] * 1000) != ks[\"active_end_p1000\"]\n",
    "    if mask.any():\n",
    "        raise ValueError(\"Mismatch of active_end_p1000 at \" + ks.loc[mask].to_csv(sep=\";\"))\n",
    "    ks.drop(columns=[\"id\", \"cases_p1000\", \"active_end_p1000\"], inplace=True)\n",
    "    ks.drop_duplicates(\n",
    "        # Comment the next line to see\n",
    "        # (a) corrections in 2020 08-10 totals,\n",
    "        # (b) some changes through ÖGKK -> ÖGK\n",
    "        subset=[\"date\", \"insurer\", \"employment\"], keep=\"last\",\n",
    "        inplace=True)\n",
    "    ks.set_index([\"date\", \"insurer\", \"employment\"], inplace=True, verify_integrity=True)\n",
    "    return ks.sort_index()\n",
    "    \n",
    "ks = collect_ks()\n",
    "ks_o = ks.copy()"
   ]
  },
  {
   "cell_type": "code",
   "execution_count": null,
   "id": "a41c628d",
   "metadata": {
    "ExecuteTime": {
     "end_time": "2023-07-17T08:22:49.244018Z",
     "start_time": "2023-07-17T08:22:49.029052Z"
    }
   },
   "outputs": [],
   "source": [
    "ks=ks_o.copy()\n",
    "\n",
    "ks[\"jun_year\"] = ks.index.get_level_values(\"date\").asfreq(\"A-JUN\").year - 1\n",
    "ks[\"jun_year_l\"] = ks[\"jun_year\"].astype(str) + \"/\" + ((ks[\"jun_year\"] + 1) % 100).astype(str) \n",
    "ks[\"jun_month\"] = (ks.index.get_level_values(\"date\").month - 1 + (12 - 6)) % 12 + 1\n",
    "ks[\"cases_n\"] = ks[\"cases\"] / ks.index.get_level_values(\"date\").days_in_month * 30\n",
    "ks[\"m_start\"] = ks.index.get_level_values(\"date\").start_time\n",
    "\n",
    "#ks[\"qyear\"] = ks[\"qdate\"].dt.qyear\n",
    "ks = cov.add_sum_rows(ks, \"employment\", \"Insgesamt\", {\n",
    "    \"insured\": \"sum\", \"cases\": \"sum\", \"cases_n\": \"sum\", \"active_end\": \"sum\",\n",
    "    \"jun_year\": \"first\", \"jun_year_l\": \"first\", \"jun_month\": \"first\", \"m_start\": \"first\"})\n",
    "\n",
    "ks[\"active_end_pp\"] = ks[\"active_end\"] / ks[\"insured\"]\n",
    "ks[\"cases_pp_n30\"] = ks[\"cases_n\"] / ks[\"insured\"]\n",
    "ks[\"cases_pp_raw\"] = ks[\"cases\"] / ks[\"insured\"]\n",
    "#ks_s[\"cases_pp_n30\"] = ks_s[\"cases_n\"] / ks_s[\"insured\"]\n",
    "#ks_s[\"active_end_pp\"] = ks_s[\"active_end\"] / ks_s[\"insured\"]\n",
    "#ks[\"m_start\"] = ks0[\"date\"].dt.start_time\n",
    "#display(ks_s.query(\"insurer == 'Insgesamt' and employment != 'angest'\")[[\"jun_year\", \"month\"]])"
   ]
  },
  {
   "cell_type": "code",
   "execution_count": null,
   "id": "37811c99",
   "metadata": {
    "ExecuteTime": {
     "end_time": "2023-07-17T08:22:52.320206Z",
     "start_time": "2023-07-17T08:22:49.247369Z"
    }
   },
   "outputs": [],
   "source": [
    "def plt_ks_yoy(y, bl, empl=\"Insgesamt\"):\n",
    "    whatlabel = (\n",
    "        \"Krankenstandfälle/Monat (30-Tage-normiert)\" if y == \"cases_pp_n30\" else\n",
    "        \"Laufende Krankenstände am Monatsende\" if y == \"active_end_pp\" else None)\n",
    "    empllabel = \"\" if empl == \"Insgesamt\" else f\" (nur {empl})\"\n",
    "    fig, ax = plt.subplots()\n",
    "    #display(ks.dtypes)\n",
    "    #ax.set_xlabels([\"])\n",
    "    blq = \"Insgesamt\" if bl == 'Österreich' else bl\n",
    "    pdata = ks.query(f\"insurer == '{blq}' and employment == '{empl}'\").sort_index().reset_index()\n",
    "    pal = sns.color_palette(\"tab10\", n_colors=pdata[\"jun_year_l\"].nunique())[::-1]\n",
    "    pltargs = dict(x=\"jun_month\", y=y, hue=\"jun_year_l\", palette=pal, sort=False, markersize=9)\n",
    "    sns.lineplot(pdata,\n",
    "                  #lw=3,\n",
    "                #size=pdata[\"jun_year_l\"].map(lambda y: 3 if y == pdata.iloc[0][\"jun_year_l\"] else 2),\n",
    "                #sizes=(2, 4),\n",
    "                marker=\"o\" if y != \"active_end_pp\" else None,\n",
    "                lw=3, **pltargs)\n",
    "    if y == \"active_end_pp\":\n",
    "        wday = pdata[\"date\"].dt.end_time.dt.dayofweek\n",
    "        is_weekend = wday > 4\n",
    "        is_monday = wday == 0\n",
    "        pd0 = pdata.copy()\n",
    "        pd0.loc[is_monday | is_weekend, y] = np.nan\n",
    "        sns.lineplot(\n",
    "            pd0,\n",
    "            marker=\"o\",\n",
    "            lw=0, **pltargs, legend=False)\n",
    "        pd0 = pdata.copy()\n",
    "        pd0.loc[~is_monday, y] = np.nan\n",
    "        sns.lineplot(\n",
    "            pd0,\n",
    "            marker=\"X\",\n",
    "            lw=0, **pltargs, legend=False, mew=0)\n",
    "    \n",
    "    cov.set_percent_opts(ax)\n",
    "    ax.axvline(12 - 6 + 1 - 0.5, color=\"k\", ls=\"--\", lw=1, zorder=1)\n",
    "    ax.set_xticks(np.arange(1, 12+1))\n",
    "    ax.set_xticklabels([\"Jul\", \"Aug\", \"Sep\", \"Okt\", \"Nov\", \"Dez\", \"Jän\", \"Feb\", \"Mär\", \"Apr\", \"Mai\", \"Jun\"])\n",
    "    ax.set_ylim(bottom=0)\n",
    "    ax.set_xlabel(\"Monat\")\n",
    "    ax.legend(title=\"Jahr bzw. Saison\")\n",
    "    #ax.set_ylabel(\"Anteil der Versicherten (30-Tage-normiert)\")\n",
    "    ax.set_ylabel(\"Fälle/Versicherte\")\n",
    "    #fig.suptitle(\"Aktive Krankenstandfälle am Monatsende als Anteil der Versicherten\", y=0.93)\n",
    "    fig.suptitle(f\"{bl}{empllabel}: {whatlabel} als Anteil der Versicherten\", y=0.93)\n",
    "    kwargs = dict(ax=ax, mms=pdata, ycol=y, cats=\"jun_year\", x=\"jun_month\", colorize=pal)\n",
    "    cov.labelend2(**kwargs, shorten=lambda x: str((x + 1) % 100))\n",
    "    cov.labelend2(**kwargs, ends=(True, False), shorten=lambda x: \"17\" if x == 2016 else str(x % 100))\n",
    "    ax.yaxis.set_major_locator(matplotlib.ticker.MultipleLocator(0.02))\n",
    "    cov.stampit(fig, \"Monatsberichte des österr. Dachverband der Sozialversicherungsträger\")\n",
    "    ax.legend(ncol=3, title=\"Jahr bzw. Saison\")\n",
    "plt_ks_yoy(\"active_end_pp\", \"Österreich\")\n",
    "if False:\n",
    "    for bl in cov.BUNDESLAND_BY_ID.values():\n",
    "        plt_ks_yoy(\"cases_pp_n30\", bl)\n",
    "plt_ks_yoy(\"cases_pp_n30\", \"Österreich\", \"Insgesamt\")\n",
    "plt_ks_yoy(\"cases_pp_n30\", \"Österreich\", \"ArbeiterInnen\")\n",
    "plt_ks_yoy(\"cases_pp_n30\", \"Österreich\", \"Angestellte\")"
   ]
  },
  {
   "cell_type": "code",
   "execution_count": null,
   "id": "d738920d",
   "metadata": {
    "ExecuteTime": {
     "end_time": "2023-07-17T08:22:53.974248Z",
     "start_time": "2023-07-17T08:22:52.323205Z"
    }
   },
   "outputs": [],
   "source": [
    "fig, ax = plt.subplots()\n",
    "ks0 = ks.query(\"employment == 'Insgesamt'\").reset_index()#.query(\"employment == 'angest'\").reset_index()\n",
    "sns.lineplot(ks0.query(\n",
    "    \"insurer in ('Vorarlberg', 'Tirol', 'Salzburg', 'Oberösterreich', 'Kärnten', 'Steiermark', 'Niederösterreich', 'Wien', 'Burgenland')\"\n",
    "), hue=\"insurer\",# style=\"employment\",\n",
    "             x=\"m_start\", y=\"cases_pp_n30\", marker=\".\", mew=0)\n",
    "cov.set_percent_opts(ax, decimals=1)\n",
    "ax.xaxis.set_major_locator(matplotlib.dates.YearLocator())\n",
    "ax.xaxis.set_minor_formatter(matplotlib.dates.DateFormatter(\"%b\"))\n",
    "ax.xaxis.set_minor_locator(matplotlib.dates.MonthLocator([1, 4, 7, 10]))\n",
    "ax.set_ylim(bottom=0)\n",
    "\n",
    "ax.grid(which=\"minor\", lw=0.3)\n",
    "#fig.autofmt_xdate()\n",
    "ax.tick_params(axis=\"x\", which=\"major\", pad=11)\n",
    "#cov.set_logscale(ax)\n",
    "ax.legend(ncol=2, loc=\"lower left\")\n",
    "fig.suptitle(\"Krankenstandzugang/Monat (normiert auf 30 Tage) in % der Versicherten\")\n",
    "ax.set_title(\"Arbeiter + Angestellte, je Versichernder ÖGK\")\n",
    "ax.set_xlabel(\"Berichtsmonat\")\n",
    "ax.set_ylabel(\"Fälle/Versicherte (30-Tage-normiert)\")"
   ]
  },
  {
   "cell_type": "code",
   "execution_count": null,
   "id": "1eb68a06",
   "metadata": {
    "ExecuteTime": {
     "end_time": "2023-07-17T08:22:56.114258Z",
     "start_time": "2023-07-17T08:22:53.977260Z"
    }
   },
   "outputs": [],
   "source": [
    "logscale = False\n",
    "fig, ax = plt.subplots()\n",
    "if logscale:\n",
    "    cov.set_logscale(ax)\n",
    "fig.suptitle(\"Krankenstandzugang/Monat (normiert auf 30 Tage) in % der Versicherten\")\n",
    "ax.set_title(\"Über alle im Bericht erfassten Träger, je Arbeitsverhältnis\")\n",
    "\n",
    "pdata = ks.query(\"insurer == 'Insgesamt'\").reset_index()\n",
    "pargs = dict(x=\"m_start\", y=\"cases_pp_n30\", estimator=None, marker=\".\", mew=0, ax=ax)\n",
    "ax = sns.lineplot(pdata.query(\"employment != 'Insgesamt'\"), hue=\"employment\", ls=\"--\", **pargs)\n",
    "sns.lineplot(pdata.query(\"employment == 'Insgesamt'\"),\n",
    "             lw=2, markersize=10, color=\"grey\", label=\"Insgesamt\", **pargs)\n",
    "cov.set_percent_opts(ax, decimals=1)\n",
    "ax.xaxis.set_major_locator(matplotlib.dates.YearLocator())\n",
    "ax.xaxis.set_minor_formatter(matplotlib.dates.DateFormatter(\"%b\"))\n",
    "ax.xaxis.set_minor_locator(matplotlib.dates.MonthLocator([1, 4, 7, 10]))\n",
    "ax.grid(which=\"minor\", lw=0.3)\n",
    "#fig.autofmt_xdate()\n",
    "ax.tick_params(axis=\"x\", which=\"major\", pad=11)\n",
    "if not logscale:\n",
    "    ax.set_ylim(bottom=0)\n",
    "\n",
    "ax.set_xlabel(\"Berichtsmonat\")\n",
    "ax.set_ylabel(\"Fälle/Versicherte (30-Tage-normiert)\")\n",
    "\n",
    "ax.legend()"
   ]
  },
  {
   "cell_type": "code",
   "execution_count": null,
   "id": "832d2528",
   "metadata": {
    "ExecuteTime": {
     "end_time": "2023-07-17T08:22:56.139537Z",
     "start_time": "2023-07-17T08:22:56.121262Z"
    }
   },
   "outputs": [],
   "source": [
    "ks.query(\"insurer == 'Österr. Gesundheitskasse' and employment == 'all' and date.dt.year == 2022\")[\"cases_pp_n30\"].sum()"
   ]
  },
  {
   "cell_type": "code",
   "execution_count": null,
   "id": "e1689804",
   "metadata": {
    "ExecuteTime": {
     "end_time": "2023-07-17T08:22:56.161869Z",
     "start_time": "2023-07-17T08:22:56.143537Z"
    }
   },
   "outputs": [],
   "source": [
    "if False:\n",
    "    # Correct for bad case removal https://twitter.com/zeitferne/status/1584103659477925888\n",
    "    def stitchcsv(oldpath, newpath):\n",
    "        oldbegdate = pd.to_datetime(\"16.03.2020 00:00:00\", dayfirst=True)\n",
    "        oldenddate = pd.to_datetime(\"31.03.2020 00:00:00\", dayfirst=True)\n",
    "        olddf = pd.read_csv(oldpath, sep=\";\", encoding=\"utf-8\")\n",
    "        newdf = pd.read_csv(newpath, sep=\";\", encoding=\"utf-8\")\n",
    "        dcol = \"MeldeDatum\" if \"MeldeDatum\" in olddf.columns else \"Time\" if \"Time\" in olddf.columns else \"Datum\"\n",
    "        if not dcol:\n",
    "            raise ValueError(\"Could not find datecol in \" + str(oldpath))\n",
    "\n",
    "        oldt = pd.to_datetime(olddf[dcol], dayfirst=True)\n",
    "        newt = pd.to_datetime(newdf[dcol], dayfirst=True)\n",
    "\n",
    "        def addcol(cols, cname):\n",
    "            if cname in olddf.columns:\n",
    "                cols.append(cname)\n",
    "\n",
    "        catcols = []\n",
    "        addcol(catcols, \"BundeslandID\")\n",
    "        addcol(catcols, \"AltersgruppeID\")\n",
    "        addcol(catcols, \"Geschlecht\")\n",
    "        addcol(catcols, \"GKZ\")\n",
    "\n",
    "        scols = [c for c in olddf.columns if c.endswith(\"Sum\")]\n",
    "        addcol(scols, \"Anzahl\")\n",
    "        addcol(scols, \"AnzahlTot\")\n",
    "        addcol(scols, \"AnzahlGeheilt\")\n",
    "\n",
    "        oldpart = olddf[(oldt >= oldbegdate) & (oldt < oldenddate)]\n",
    "        def tform(chunk):\n",
    "            for scol in scols:\n",
    "                oldbase = chunk[scol]\n",
    "\n",
    "\n",
    "    bpath = Path(r\"T:\\Users\\Christian\\myProgs\\covidat\\coronaDAT_patch\\final\")\n",
    "    for fname in (\n",
    "        \"CovidFaelle_Altersgruppe.csv\",\n",
    "        \"CovidFaelle_Timeline.csv\",\n",
    "        \"CovidFaelle_Timeline_GKZ.csv\",\n",
    "        \"CovidFaelleDelta.csv\"):\n",
    "\n",
    "        stitched = stitchcsv(\n",
    "            bpath / \"20221021_140201_orig_csv_ages\" / fname,\n",
    "            bpath / \"20230630_140201_orig_csv_ages\" / fname)\n",
    "        if stitched is not None:\n",
    "            stitched.to_csv(bpath / fname, encoding=\"utf-8\", sep=\";\")"
   ]
  },
  {
   "cell_type": "code",
   "execution_count": null,
   "id": "5d7f98ca",
   "metadata": {
    "ExecuteTime": {
     "end_time": "2023-07-17T08:22:56.477451Z",
     "start_time": "2023-07-17T08:22:56.168866Z"
    }
   },
   "outputs": [],
   "source": [
    "medshort = pd.read_csv(\n",
    "    util.COLLECTROOT / \"medshort/medshort.csv\",\n",
    "    sep=\";\")\n",
    "medshort[\"Datum\"] = cov.parseutc_at(medshort[\"Datum\"], format=cov.ISO_DATE_FMT)\n",
    "medshort.set_index(\"Datum\", inplace=True)\n",
    "if False:\n",
    "    fig, ax = plt.subplots()\n",
    "    ax.plot(medshort[\"NLimitedMeds\"], marker=\"o\")\n",
    "    ax.set_ylim(bottom=0, top=medshort[\"NLimitedMeds\"].max() * 1.05)\n",
    "    cov.set_date_opts(ax)\n",
    "    fig.suptitle(\"Anzahl Einträge in Liste der Meldungen zu Vertriebseinschränkungen von Arzneispezialitäten\")\n",
    "    ax.set_title(\"Quelle: medicineshortage.basg.gv.at/vertriebseinschraenkungen\")"
   ]
  },
  {
   "cell_type": "code",
   "execution_count": null,
   "id": "0f60474f",
   "metadata": {
    "ExecuteTime": {
     "end_time": "2023-07-17T08:22:56.486990Z",
     "start_time": "2023-07-17T08:22:56.480448Z"
    }
   },
   "outputs": [],
   "source": [
    "def labelavail(avail):\n",
    "    return (avail\n",
    "        .replace(\"verfügbar gemäß §4 (1)\", \"§4(1) (~Mangel entgegen Herstellerangabe)\")\n",
    "        .replace(\"teilweise verfügbar\", \"gewisse Größen voll verfügbar (Verwechslung mit eing. verf. möglich)\"))"
   ]
  },
  {
   "cell_type": "code",
   "execution_count": null,
   "id": "5654d939",
   "metadata": {
    "ExecuteTime": {
     "end_time": "2023-07-17T08:22:59.187495Z",
     "start_time": "2023-07-17T08:22:56.490979Z"
    }
   },
   "outputs": [],
   "source": [
    "med_x = pd.read_csv(util.COLLECTROOT / \"medshort/medshort_ex.csv\", encoding=\"utf-8\", sep=\";\"\n",
    "                   ).query(\"Datum >= '2022-12-01' and (SourceFormat == 'xml' or Datum <= '2023-06-25')\")\n",
    "display(med_x.query(\"Availability == 'verfügbar'\"))\n",
    "med_x = med_x.query(\"Availability != 'verfügbar'\")\n",
    "med_x[\"Datum\"] = pd.to_datetime(med_x[\"Datum\"], format=\"%Y-%m-%d\")\n",
    "med_x[\"Datum\"].freq = \"D\"\n",
    "#med_x[\"Datum_n\"] = matplotlib.dates.date2num(med_x[\"Datum\"])\n",
    "AvailC = pd.CategoricalDtype([\n",
    "    \"nicht verfügbar\",\n",
    "    \"eingeschränkt verfügbar\",\n",
    "    \"verfügbar gemäß §4 (1)\",\n",
    "    \"teilweise verfügbar\"])\n",
    "med_x[\"Avail_c\"] = med_x[\"Availability\"].astype(AvailC)\n",
    "med_x.sort_values([\"Datum\", \"Avail_c\"], kind=\"stable\", inplace=True)\n",
    "#display(med_x)\n",
    "med_xh = med_x.query(\"Usage == 'Human'\").reset_index()\n",
    "#ax = sns.area(med_xh, x=\"Datum\", y=\"N\", hue=\"Availability\", marker=\"o\")\n",
    "#ax = med_xh.pivot(index=\"Datum\", columns=\"Availability\", values=\"N\").resample(\"D\").plot.bar(stacked=True)\n",
    "#cov.set_date_opts(ax)\n",
    "#ax.set_ylim(bottom=0)\n",
    "fig, ax = plt.subplots()\n",
    "ax.set_axisbelow(False)\n",
    "#ax.plot(medshort[\"NLimitedMeds\"], marker=\"o\", color=\"grey\",\n",
    "#        label=\"Anzahl Einträge insgesamt, inkl. Veterinär: \" + str(medshort[\"NLimitedMeds\"].iloc[-1]), zorder=1)\n",
    "pltr = cov.StackBarPlotter(\n",
    "    ax, pd.date_range(start=med_xh[\"Datum\"].min(), end=med_xh[\"Datum\"].max(), freq=\"1D\"),\n",
    "    lw=0, width=1)\n",
    "ax.set_prop_cycle(color=sns.color_palette(\"plasma\", n_colors=med_x[\"Avail_c\"].nunique()))\n",
    "for avail, avail_d in med_xh.groupby(\"Availability\", sort=False):\n",
    "    #display(avail_d)\n",
    "    pltr(avail_d.set_index(\"Datum\")[\"N\"].resample(\"1D\").interpolate(limit=1).to_numpy(),\n",
    "         label=labelavail(avail) + \": \" + str(avail_d[\"N\"].iloc[-1]))\n",
    "    \n",
    "def decorate_medshort(ax, titley, supy, extralabel=\"\"):\n",
    "    ax.figure.suptitle(\"Medikamentenmangel in Österreich\", y=supy)\n",
    "    cov.set_date_opts(ax, showyear=True)\n",
    "    ax.axvline(pd.to_datetime(\"2023-06-23T12:00:00\"), color=\"k\", ls=\":\",\n",
    "           label=\"Umstellung eigener Datensammlung von xlsx auf xml\")\n",
    "    ax.set_title(\n",
    "    \"Darstellung: @zeitferne | Daten: medicineshortage.basg.gv.at/vertriebseinschraenkungen, bis \"\n",
    "    + med_xh.iloc[-1][\"Datum\"].strftime(\"%d.%m.%Y\")\n",
    "   # + \"\\nVerschiedene Packungsgrößen (nicht Dosisstärken) möglichst als gleiches Medikament gezählt\"\n",
    "    + extralabel,\n",
    "    y=titley)\n",
    "    ax.set_ylabel(\"Anzahl Human-Medikamente\")\n",
    "#ax.figure.autofmt_xdate()\n",
    "decorate_medshort(ax, 1.05, 1.01, \" | 1-tägige Lücken interpoliert\")\n",
    "ax.legend(loc=\"lower left\", title=\"Anzahl Human-Medikamente je Kategorie\")\n",
    "#med_xh\n",
    "\n",
    "if False:\n",
    "    ax.text(\n",
    "        0.5, 1.01,\n",
    "        \"Falls ein Medikament in allen beschränkten Dosisstärken in allen Packungsgrößen beschränkt ist, \"\n",
    "        \"aber eine andere Dosisstärke uneingeschränkt verfügbar wäre,\\n\"\n",
    "        \"wird stattdessen wegen Limitierungen in der Daten-Analyse fälschlicherweise \"\n",
    "        \"die stärkere Beschränkung angegeben.\",\n",
    "        fontsize=\"x-small\",\n",
    "        ha=\"center\",\n",
    "        transform=ax.transAxes)\n",
    "display(cov.filterlatest(med_xh))\n",
    "display(cov.filterlatest(med_xh)[\"N\"].sum())\n",
    "display(med_xh[med_xh[\"Datum\"] == med_xh[\"Datum\"].min()])\n",
    "display(med_xh[med_xh[\"Datum\"] == med_xh[\"Datum\"].min()][\"N\"].sum())\n"
   ]
  },
  {
   "cell_type": "code",
   "execution_count": null,
   "id": "5b6a5446",
   "metadata": {
    "ExecuteTime": {
     "end_time": "2023-07-17T08:22:59.889021Z",
     "start_time": "2023-07-17T08:22:59.190488Z"
    }
   },
   "outputs": [],
   "source": [
    "pdata = med_xh.copy()\n",
    "med_xh[\"Availability\"] = labelavail(med_xh[\"Availability\"])\n",
    "ax = sns.lineplot(med_xh, x=\"Datum\", y=\"N\", hue=\"Availability\")\n",
    "ax.get_legend().remove()\n",
    "decorate_medshort(ax, supy=1.065, titley=1.14)\n",
    "fig = ax.figure\n",
    "fig.legend(*cov.sortedlabels(ax, med_xh, \"N\", \"Availability\", fmtval=lambda v: f\"{v:.0f}\"),\n",
    "           frameon=False, ncol=2, loc=\"upper center\", bbox_to_anchor=(0.5, 1))\n",
    "ax.set_ylim(bottom=0)"
   ]
  },
  {
   "cell_type": "code",
   "execution_count": null,
   "id": "fcefd424",
   "metadata": {
    "ExecuteTime": {
     "end_time": "2023-07-17T08:22:59.906546Z",
     "start_time": "2023-07-17T08:22:59.892019Z"
    }
   },
   "outputs": [],
   "source": [
    "display(med_xh[med_xh[\"Datum\"] == pd.to_datetime(\"2023-04-25\")].sum(numeric_only=True))"
   ]
  },
  {
   "cell_type": "code",
   "execution_count": null,
   "id": "356a88aa",
   "metadata": {
    "ExecuteTime": {
     "end_time": "2023-07-17T08:23:00.644590Z",
     "start_time": "2023-07-17T08:22:59.911068Z"
    }
   },
   "outputs": [],
   "source": [
    "def onlyelem(xs):\n",
    "    xs = iter(xs)\n",
    "    v = next(xs)\n",
    "    try:\n",
    "        next(xs)\n",
    "    except StopIteration:\n",
    "        return v\n",
    "    raise ValueError(\"More than one element\")\n",
    "grippe = onlyelem(pd.read_html(\n",
    "    util.DATAROOT / \"ages-epi-misc/grippe_20230714_090503.html\",\n",
    "    match=\"Influenza A/H3N2 Fall\",\n",
    "    thousands=\".\",\n",
    "    decimal=\",\"))"
   ]
  },
  {
   "cell_type": "code",
   "execution_count": null,
   "id": "ef0f0c65",
   "metadata": {
    "ExecuteTime": {
     "end_time": "2023-07-17T08:23:01.330721Z",
     "start_time": "2023-07-17T08:23:00.648107Z"
    }
   },
   "outputs": [],
   "source": [
    "gfallcol = [c for c in grippe.columns if \" Fall\" in c]\n",
    "grippe[\"Woche\"] = grippe[\"Woche\"].astype(str)\n",
    "grippe.set_index(\"Woche\", inplace=True, verify_integrity=True)\n",
    "npos = grippe[gfallcol].sum(axis=1)\n",
    "ntest = (npos / grippe[\"Positiv-Rate (positive Proben/Untersuchte Proben)\"]).round()\n",
    "ppos = grippe[gfallcol].div(ntest, axis=0)\n",
    "#display(ntest)\n",
    "#display(grippe[gfallcol])\n",
    "ppos.rename(columns={c: '% ' + c.replace(\" Fall\", \"-positiv\") for c in ppos.columns}, inplace=True)\n",
    "color = [f\"C{i}\" for i in range(len(ppos.columns))]\n",
    "ax = ppos.plot(color=color)\n",
    "ppos.where(lambda x: x != 0).plot(ax=ax, lw=0, marker=\"o\", markersize=10, alpha=0.8, color=color, legend=False)\n",
    "fig = ax.figure\n",
    "ax.set_ylim(bottom=0)\n",
    "cov.set_percent_opts(ax)\n",
    "ax.set_ylabel(\"Positivrate\")\n",
    "fig.suptitle(\"Influenza in Österreich, Sentinel-Proben 2022/23 (AGES/DINÖ)\", y=0.93)"
   ]
  },
  {
   "cell_type": "code",
   "execution_count": null,
   "id": "b0bc498e",
   "metadata": {
    "ExecuteTime": {
     "end_time": "2023-07-17T08:23:02.370072Z",
     "start_time": "2023-07-17T08:23:01.333719Z"
    }
   },
   "outputs": [],
   "source": [
    "ax = grippe.plot(y=gfallcol, marker=\"o\", markersize=10, alpha=0.8)\n",
    "cov.set_logscale(ax)\n",
    "ax2 = ax.twinx()\n",
    "grippe.plot(y=[c for c in grippe.columns if \"Positiv-Rate\" in c], ax=ax2, color=\"k\", marker=\"s\",\n",
    "           markersize=4)\n",
    "ax2.grid(False)\n",
    "ax2.get_legend().remove()\n",
    "ax.get_legend().remove()\n",
    "fig = ax.figure\n",
    "fig.suptitle(\"Influenza in Österreich, Sentinel-Proben 2022/23 (AGES/DINÖ)\", y=1.05)\n",
    "fig.legend(loc=\"upper center\", ncol=2, frameon=False, bbox_to_anchor=(0.5, 1))\n",
    "ax.set_ylabel(\"Anzahl positiver Proben (log)\")\n",
    "ax2.set_ylabel(\"Positivrate\")\n",
    "cov.set_percent_opts(ax2)\n",
    "ax.set_ylim(bottom=0.9)\n",
    "ax2.set_ylim(bottom=0)\n"
   ]
  },
  {
   "cell_type": "code",
   "execution_count": null,
   "id": "528871ef",
   "metadata": {
    "ExecuteTime": {
     "end_time": "2023-07-17T08:23:02.835592Z",
     "start_time": "2023-07-17T08:23:02.373066Z"
    }
   },
   "outputs": [],
   "source": [
    "(ntest).plot(marker=\"o\").set_ylim(0)\n",
    "plt.gcf().suptitle(\"Anzahl Sentinel-Proben (positiv+negativ) / KW (geschätzt)\", y=0.93)"
   ]
  },
  {
   "cell_type": "code",
   "execution_count": null,
   "id": "4c745cf1",
   "metadata": {},
   "outputs": [],
   "source": []
  }
 ],
 "metadata": {
  "kernelspec": {
   "display_name": "Python 3 (ipykernel)",
   "language": "python",
   "name": "python3"
  },
  "language_info": {
   "codemirror_mode": {
    "name": "ipython",
    "version": 3
   },
   "file_extension": ".py",
   "mimetype": "text/x-python",
   "name": "python",
   "nbconvert_exporter": "python",
   "pygments_lexer": "ipython3",
   "version": "3.11.4"
  }
 },
 "nbformat": 4,
 "nbformat_minor": 5
}
