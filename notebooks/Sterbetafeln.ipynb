{
 "cells": [
  {
   "cell_type": "code",
   "execution_count": null,
   "id": "4a1c8d33",
   "metadata": {
    "ExecuteTime": {
     "end_time": "2023-06-29T18:51:13.221796Z",
     "start_time": "2023-06-29T18:51:12.567632Z"
    }
   },
   "outputs": [],
   "source": [
    "import locale\n",
    "locale.setlocale(locale.LC_ALL, \"de_AT.UTF-8\");\n",
    "\n",
    "%matplotlib inline\n",
    "%precision %.4f\n",
    "#%load_ext snakeviz\n",
    "import colorcet\n",
    "import pandas as pd\n",
    "from scipy import stats\n",
    "import matplotlib.pyplot as plt\n",
    "import matplotlib.dates\n",
    "import matplotlib.ticker\n",
    "import matplotlib.patches\n",
    "import matplotlib.colors\n",
    "import seaborn as sns\n",
    "from importlib import reload\n",
    "from itertools import count\n",
    "from datetime import date, datetime, timedelta\n",
    "from IPython.display import display, Markdown, HTML\n",
    "import textwrap\n",
    "from functools import partial\n",
    "from cycler import cycler\n",
    "import collections\n",
    "\n",
    "from covidat import cov, util\n",
    "\n",
    "pd.options.display.precision = 4\n",
    "\n",
    "cov = reload(cov)\n",
    "\n",
    "plt.rcParams['figure.figsize'] = (16*0.7,9*0.7)\n",
    "plt.rcParams['figure.dpi'] =  120 #80\n",
    "plt.rcParams['figure.facecolor'] = '#fff'\n",
    "sns.set_theme(style=\"whitegrid\")\n",
    "sns.set_palette('tab10')\n",
    "\n",
    "plt.rcParams['image.cmap'] = cov.un_cmap\n",
    "\n",
    "pd.options.display.max_rows = 120\n",
    "pd.options.display.min_rows = 40"
   ]
  },
  {
   "cell_type": "code",
   "execution_count": null,
   "id": "7107d1e2",
   "metadata": {
    "ExecuteTime": {
     "end_time": "2023-06-29T18:51:13.237792Z",
     "start_time": "2023-06-29T18:51:13.230798Z"
    }
   },
   "outputs": [],
   "source": [
    "def stampit(fig):\n",
    "    cov.stampit(fig, \"Statistik Austria\")"
   ]
  },
  {
   "cell_type": "code",
   "execution_count": null,
   "id": "c504a581",
   "metadata": {
    "ExecuteTime": {
     "end_time": "2023-06-29T18:51:13.399977Z",
     "start_time": "2023-06-29T18:51:13.252798Z"
    }
   },
   "outputs": [],
   "source": [
    "if False:\n",
    "    st = pd.read_csv(\"sterbetafel-at.csv\", sep=\";\", encoding=\"utf-8\", header=[0,1], decimal=\",\", index_col=0)\n",
    "    st = st.melt(ignore_index=False, var_name=[\"sex\", \"age\"], value_name=\"life_rem\")\n",
    "    st.index = st.index.rename(\"year\")\n",
    "    st[\"age\"] = st[\"age\"].astype(int)\n",
    "    st[\"life_sum\"] = st[\"life_rem\"] + st[\"age\"]\n",
    "    st.set_index([\"sex\", \"age\"], append=True, inplace=True)"
   ]
  },
  {
   "cell_type": "code",
   "execution_count": null,
   "id": "91eb8708",
   "metadata": {
    "ExecuteTime": {
     "end_time": "2023-06-29T18:51:25.515974Z",
     "start_time": "2023-06-29T18:51:13.405922Z"
    }
   },
   "outputs": [],
   "source": [
    "def plt_sterbe_simp(st0, title):\n",
    "    #sns.lineplot()\n",
    "    rwidth = 1\n",
    "    change = (\n",
    "        st0[\"life_sum\"]\n",
    "        .groupby(level=list(set(st0.index.names) - {\"year\"}))\n",
    "        #.transform(lambda s: s.rolling(rwidth).mean() - s.rolling(rwidth).mean().shift(rwidth))\n",
    "        .transform(lambda s: s - s.shift(rwidth))\n",
    "    )\n",
    "    maxage = st0.index.get_level_values(\"age\").max()\n",
    "    ag60 = st0.xs(maxage, level=\"age\")\n",
    "    spread = (ag60[\"life_sum\"] / st0.query(f\"age != {maxage}\")[\"life_sum\"]).rename(\"exp_spread\")\n",
    "    #stpiv = st0.reset_index().pivot(index=\"year\", columns=\"age\", values=\"life_sum\")\n",
    "    #spread = (stpiv.loc[:, 60] / stpiv.loc[:, 45]).rename(\"exp_spread\")\n",
    "    #display(spread)\n",
    "        #.transform(lambda s: s.rolling(rwidth).mean() - s.rolling(rwidth).mean().shift(rwidth))\n",
    "\n",
    "    #display(spread)    #change = change[change.index.get_level_values(\"year\") >= 1950]\n",
    "    #st0 = st0[st0.index.get_level_values(\"year\") >= 1950]\n",
    "    #display(st0)\n",
    "    #print(change.first_valid_index())\n",
    "    #display(change[change.index.get_level_values(\"age\") == 0].tail(12))\n",
    "    plt.figure()\n",
    "    ax = sns.lineplot(\n",
    "        change.reset_index(), x=\"year\", y=\"life_sum\", hue=\"age\", palette=\"Paired\", marker=\".\",\n",
    "        alpha=0.8, mew=0)\n",
    "    fig = ax.figure\n",
    "    fig.suptitle(\n",
    "        title + (\n",
    "            #f\": Änderung des {rwidth}-Jahre-Schnitts ggü. {rwidth} Jahren zuvor\"\n",
    "            f\": Änderung ggü. {rwidth} Jahren zuvor\"\n",
    "            if rwidth != 1 else \": Änderung ggü. Vorjahr\"\n",
    "        ),\n",
    "        y=0.93)\n",
    "    ax.legend(title=\"Erreichtes Alter\", ncol=2)\n",
    "    ax.set_ylabel(\"Jährliche Änderung Lebenserwartung\")\n",
    "    ax.set_xlabel(\"Jahr\")\n",
    "    #print(st0.iloc[0].name)\n",
    "    ax.set_xlim(left=change.index[0][change.index.names.index(\"year\")])\n",
    "    #ax.axvspan(2019.5, ax.get_xlim()[1], alpha=0.5, color=\"yellow\")\n",
    "    ax.axhline(0, color=\"k\")\n",
    "    \n",
    "    plt.figure()\n",
    "    ax = sns.lineplot(\n",
    "        st0.reset_index(), x=\"year\", y=\"life_sum\", hue=\"age\", palette=\"Paired\", marker=\".\",\n",
    "        mew=0)\n",
    "    ax.figure.suptitle(title, y=0.93)\n",
    "    cov.labelend2(ax, st0.reset_index(), \"life_sum\", cats=\"age\", x=\"year\", shorten=lambda n: n)\n",
    "    ax.set_xlim(left=st0.index.get_level_values(\"year\")[0])\n",
    "    ax.legend(title=\"Erreichtes Alter\", ncol=2)\n",
    "    ax.set_ylabel(\"Gesamte Lebenserwartung\")\n",
    "    ax.set_xlabel(\"Jahr\")\n",
    "    \n",
    "    plt.figure()\n",
    "    ax = sns.lineplot(\n",
    "        spread.reset_index(), x=\"year\", y=\"exp_spread\", hue=\"age\", palette=\"Paired\", marker=\".\", mew=0)\n",
    "    ax.figure.suptitle(title + f\": Verhältnis zu {maxage}-jährigen\", y=0.93)\n",
    "    ax.set_xlim(left=st0.index.get_level_values(\"year\")[0])\n",
    "    ax.legend(title=\"Erreichtes Alter\", ncol=2)\n",
    "    ax.set_ylabel(f\"Verhältnis Lebenserwartung zu bereits {maxage}-jährigen\")\n",
    "    ax.set_xlabel(\"Jahr\")\n",
    "    ax.set_ylim(bottom=1)\n",
    "    cov.set_percent_opts(ax, decimals=1)\n",
    "if False:\n",
    "    plt_sterbe_simp(st.query(\"sex == 'M'\"), \"Österreich: Lebenserwartung Männer\")\n",
    "    plt_sterbe_simp(st.query(\"sex == 'F'\"), \"Österreich: Lebenserwartung Frauen\")\n",
    "    plt_sterbe_simp(st.groupby(level=[\"year\", \"age\"]).mean(), \"Österreich: Lebenserwartung Schnitt M+W\")"
   ]
  },
  {
   "cell_type": "code",
   "execution_count": null,
   "id": "6555f70e",
   "metadata": {
    "ExecuteTime": {
     "end_time": "2023-06-29T18:51:59.031439Z",
     "start_time": "2023-06-29T18:51:25.519975Z"
    }
   },
   "outputs": [],
   "source": [
    "bcols = [\"p_die\", \"n_surv\", \"n_die\", \"n_at\", \"n_from\", \"life_rem\"]\n",
    "def mkcols(pfx): return [pfx + \"_\" + c for c in bcols]\n",
    "cols_old = [\"age\"] + mkcols(\"m\") + mkcols(\"f\")\n",
    "cols_new = cols_old + mkcols(\"mf\")\n",
    "wks = pd.read_excel(\n",
    "    util.COLLECTROOT / \"Jaehrliche_Sterbetafeln_1947_bis_2021_fuer_Oesterreich.ods\",\n",
    "    sheet_name=list(map(str, range(1947, 2002))),\n",
    "    skiprows=12,\n",
    "    usecols=range(len(cols_old)),\n",
    "    header=None,\n",
    "    names=cols_old,\n",
    "    nrows=96,\n",
    "    index_col=None,\n",
    ")\n",
    "wks.update(pd.read_excel(\n",
    "     util.COLLECTROOT / \"Jaehrliche_Sterbetafeln_1947_bis_2021_fuer_Oesterreich.ods\",\n",
    "    sheet_name=list(map(str, range(2002, 2021 + 1))),\n",
    "    skiprows=7,\n",
    "    usecols=range(len(cols_new)),\n",
    "    header=None,\n",
    "    names=cols_new,\n",
    "    nrows=101,\n",
    "    index_col=None,\n",
    "))"
   ]
  },
  {
   "cell_type": "code",
   "execution_count": null,
   "id": "1f2af1bf",
   "metadata": {
    "ExecuteTime": {
     "end_time": "2023-06-29T18:51:59.230509Z",
     "start_time": "2023-06-29T18:51:59.034440Z"
    }
   },
   "outputs": [],
   "source": [
    "for year, sheet in wks.items():\n",
    "    sheet.dropna(inplace=True, how=\"all\")\n",
    "    sheet[\"year\"] = int(year)\n",
    "ststat = pd.concat(wks.values())\n",
    "ststat[\"age\"] = ststat[\"age\"].astype(int)\n",
    "ststat.set_index([\"year\", \"age\"], inplace=True)\n",
    "ststat.columns = ststat.columns.str.split('_', n=1, expand=True)\n",
    "ststat.columns.set_names([\"sex\", None], inplace=True)\n",
    "ststat = ststat.stack(level=0)\n",
    "ststat = ststat.reorder_levels([\"year\", \"sex\", \"age\"]).sort_index()\n",
    "#lastyear = ststat.reset_index(\"age\")[\"age\"].groupby([\"year\", \"sex\"]).max()\n",
    "ststat.loc[ststat[\"n_at\"] == ststat[\"n_from\"], \"n_at\"] = np.nan\n",
    "ststat_amf = ststat.groupby([\"year\", \"age\"]).mean()\n",
    "ststat_amf[\"sex\"] = \"amf\"\n",
    "ststat = pd.concat([\n",
    "        ststat,\n",
    "        ststat_amf.set_index(\"sex\", append=True).reorder_levels([\"year\", \"sex\", \"age\"])\n",
    "    ]).sort_index()\n",
    "#display(ststat.index.dtypes)\n",
    "#display(ststat_amf)\n",
    "ststat[\"life_sum\"] = ststat.index.get_level_values(\"age\") + ststat[\"life_rem\"]"
   ]
  },
  {
   "cell_type": "code",
   "execution_count": null,
   "id": "d957bcdb",
   "metadata": {
    "ExecuteTime": {
     "end_time": "2023-06-29T18:52:00.120335Z",
     "start_time": "2023-06-29T18:51:59.233486Z"
    }
   },
   "outputs": [],
   "source": [
    "def _try_cross():\n",
    "    year = 2021\n",
    "    #p_surv = (1 - ststat.query(\"age <= 40\")[\"p_die\"]).xs((year, \"m\")).rename(\"p_surv\")\n",
    "    #display(n_surv)\n",
    "    #p_survx = p_surv * p_surv.transpose()\n",
    "    def calc_survmat(year):\n",
    "        n_surv = ststat.query(\"age <= 99\").xs((year, \"m\"))[\"n_surv\"]\n",
    "        survx = n_surv.to_frame().dot((1 / n_surv).to_frame().transpose())\n",
    "        survx.columns = survx.columns.copy()\n",
    "        survx.columns.name = \"age_from\"\n",
    "        survx.index.name = \"age_to\"\n",
    "        trimask = np.ones(survx.shape, dtype='bool')\n",
    "        trimask[np.tril_indices(len(survx))] = False\n",
    "        survx.mask(trimask, inplace=True)\n",
    "        survx = survx.clip(upper=1)\n",
    "        survx = (1 - survx)\n",
    "        mask = np.zeros(survx.shape, dtype=\"bool\")\n",
    "        mask[np.diag_indices(len(survx))] = True\n",
    "        survx[mask] = 0\n",
    "        return survx\n",
    "    survx = calc_survmat(year) - calc_survmat(2019)\n",
    "    #display(survx)\n",
    "    #survx = survx.where(lambda x: x <= 1)\n",
    "  \n",
    "    #survx = survx.sort_index(ascending=False)\n",
    "    #display(survx)\n",
    "    fig, ax = plt.subplots()\n",
    "    vmin=0#0.0025\n",
    "    #.where(lambda x: x >= vmin, vmin).mask(trimask)\n",
    "    im = ax.imshow(survx.T, aspect=1, cmap=cov.div_l_cmap, interpolation='none',\n",
    "                   #norm=matplotlib.colors.LogNorm(vmin=0.0025, vmax=0.05),\n",
    "                   norm=matplotlib.colors.TwoSlopeNorm(vmin=-0.001, vcenter=0, vmax=0.05),\n",
    "                   origin=\"lower\")\n",
    "    cax = fig.colorbar(im)\n",
    "    #cov.set_logscale(cax.ax)\n",
    "    cov.set_percent_opts(cax.ax, decimals=1)\n",
    "    fig.suptitle(f\"{year}: Sterbewahrscheinlichkeit zwischen Altern\")\n",
    "    ax.set_xlabel(\"Zu erreichendes Alter\")\n",
    "    ax.set_ylabel(\"Bereits erreichtes Alter\")\n",
    "_try_cross()"
   ]
  },
  {
   "cell_type": "code",
   "execution_count": null,
   "id": "abb1878b",
   "metadata": {
    "ExecuteTime": {
     "end_time": "2023-06-29T18:52:02.442366Z",
     "start_time": "2023-06-29T18:52:00.132277Z"
    }
   },
   "outputs": [],
   "source": [
    "survfrom1 = (1 - ststat.query(\"age >= 5\")[\"p_die\"]).groupby(level=[\"year\", \"sex\"]).transform(\n",
    "    lambda s: s.cumprod()).rename(\"p_reachend\")\n",
    "survfrom1.xs((2019, 'f'))\n",
    "\n",
    "def plt_surv(survdata):\n",
    "    ax = sns.lineplot(\n",
    "        survdata.reset_index(),\n",
    "        x=\"year\", y=\"p_reachend\", hue=\"age\", palette=\"tab10\",\n",
    "        marker=\".\", mew=0)\n",
    "    cov.set_logscale(ax)\n",
    "    ax.set_ylim(bottom=0.04, top=0.55)\n",
    "    ax.yaxis.set_major_locator(matplotlib.ticker.MultipleLocator(0.05))\n",
    "\n",
    "plt_surv((1 - survfrom1).reset_index().query(\"sex == 'amf' and age in (60, 70, 80, 85)\"))\n"
   ]
  },
  {
   "cell_type": "code",
   "execution_count": null,
   "id": "64d95a09",
   "metadata": {
    "ExecuteTime": {
     "end_time": "2023-06-29T18:52:03.235144Z",
     "start_time": "2023-06-29T18:52:02.448312Z"
    }
   },
   "outputs": [],
   "source": [
    "ax = sns.lineplot(\n",
    "    ststat.reset_index()\n",
    "    .query(\"year >= 2019 and sex == 'mf' and 0 <= age <= 85\"),\n",
    "    x=\"age\",\n",
    "    y=\"p_die\",\n",
    "    hue=\"year\",\n",
    "    palette=\"tab10\",\n",
    "    #markers=\"year\",\n",
    "    marker=\".\",\n",
    "    mew=0\n",
    ")\n",
    "cov.set_logscale(ax)"
   ]
  },
  {
   "cell_type": "code",
   "execution_count": null,
   "id": "d5f2ad2d",
   "metadata": {
    "ExecuteTime": {
     "end_time": "2023-06-29T18:52:03.250535Z",
     "start_time": "2023-06-29T18:52:03.240158Z"
    }
   },
   "outputs": [],
   "source": [
    "if False:\n",
    "    n_die5 = (1 - p_surv5) * ststat[\"n_surv\"]\n",
    "    survchange = n_die5.groupby(level=[\"sex\", \"age\"]).transform(lambda s: s - s.shift().rolling(5).min())\n",
    "elif False:\n",
    "    n_surv5 = ststat[\"n_surv\"]\n",
    "\n",
    "    def lookup_maxsurv(s):\n",
    "        try:\n",
    "            return n_surv5.loc[(maxrem.loc[s[:maxrem.index.nlevels]], *s[maxrem.index.nlevels:])]\n",
    "        except KeyError:\n",
    "            return np.nan\n",
    "    def calc_survchange(s: pd.Series):\n",
    "        n_surv5.loc[s.name]\n",
    "        best5 = s.index.map(lookup_maxsurv)\n",
    "        return s - best5\n",
    "        \n",
    "    #display(n_surv5best)\n",
    "    survchange = (\n",
    "        n_surv5\n",
    "        .groupby(level=[\"year\", \"sex\"])\n",
    "        .join(maxsurv)\n",
    "        #.transform(lambda s: s - s.shift().rolling(5).max())\n",
    "    )\n",
    "#survchange *= ststat[\"n_surv\"]\n",
    "#survchange.rename(\"p_surv5\", inplace=True);"
   ]
  },
  {
   "cell_type": "code",
   "execution_count": null,
   "id": "8461403d",
   "metadata": {
    "ExecuteTime": {
     "end_time": "2023-06-29T18:52:03.280562Z",
     "start_time": "2023-06-29T18:52:03.256529Z"
    }
   },
   "outputs": [],
   "source": [
    "def sexlabel(sex: str) -> str:\n",
    "     return (\n",
    "        'Männer' if sex == 'm' else\n",
    "        'Frauen' if sex == 'f' else\n",
    "        'Schnitt M/W' if sex == 'amf' else\n",
    "        '?!')\n",
    "def plt_year_comp(pltdata, sex, mainlabel):\n",
    "    #surv5.xs((2019, 'm')).plot()\n",
    "    _sex = sex\n",
    "    data = pltdata.xs(_sex, level=\"sex\").rename(\"y\").reset_index().query(\"3 <= age\")\n",
    "    nyear = data[\"year\"].nunique()\n",
    "    ax = plt.subplot()\n",
    "    fig = ax.figure\n",
    "    ndetail = 6\n",
    "    detailyear = data[\"year\"].max() - (ndetail - 1)\n",
    "    palette=sns.color_palette(\"tab10\", n_colors=ndetail)[-nyear:]\n",
    "    closeyear = 1975\n",
    "    predetail = data.query(f\"year < {detailyear}\")\n",
    "    predetail_close = predetail.query(f\"year >= {closeyear}\")\n",
    "\n",
    "    def _nicelabels(data):\n",
    "        data = data.copy()\n",
    "        data[\"year\"] = data[\"year\"].map(lambda yr: f\"{yr} vs. {maxrem.loc[(yr, _sex)]}\")\n",
    "        return data\n",
    "\n",
    "    detail = data.query(f\"year >= {detailyear}\")\n",
    "    sns.lineplot(\n",
    "        _nicelabels(detail),\n",
    "        ax=ax,\n",
    "        x=\"age\",\n",
    "        hue=\"year\",\n",
    "        y=\"y\",\n",
    "        #palette=palette,\n",
    "        palette=\"tab10\",\n",
    "        #palette=\"cet_glasbey_bw\",\n",
    "        marker=\".\",\n",
    "        mew=0)\n",
    "    sns.lineplot(\n",
    "        predetail_close,\n",
    "        ax=ax,\n",
    "        x=\"age\",\n",
    "        y=\"y\",\n",
    "        #palette=\"cet_glasbey_bw\",\n",
    "        errorbar=(\"pi\", 95),\n",
    "        lw=0,\n",
    "        mew=0,\n",
    "        color=\"C0\",\n",
    "        err_kws=dict(label=f\"95. Perzentil {closeyear}‒{detailyear - 1}\"))\n",
    "    ax.set_ylim(*ax.get_ylim())\n",
    "    sns.lineplot(\n",
    "        predetail.loc[~predetail[\"year\"].isin(predetail_close[\"year\"])],\n",
    "        ax=ax,\n",
    "        x=\"age\",\n",
    "        y=\"y\",\n",
    "        #palette=\"cet_glasbey_bw\",\n",
    "        #errorbar=(\"pi\", 95),\n",
    "        units=\"year\",\n",
    "        estimator=None,\n",
    "        mew=0,\n",
    "        color=\"C1\",\n",
    "        alpha=0.1,\n",
    "        zorder=0)\n",
    "\n",
    "    sns.lineplot(\n",
    "        predetail,\n",
    "        ax=ax,\n",
    "        x=\"age\",\n",
    "        y=\"y\",\n",
    "        #palette=\"cet_glasbey_bw\",\n",
    "        errorbar=(\"pi\", 95),\n",
    "        lw=0,\n",
    "        mew=0,\n",
    "        color=\"C1\",\n",
    "        err_kws=dict(\n",
    "            label=f\"95. Perzentil {data.loc[data['y'].first_valid_index(), 'year']}‒{detailyear - 1}\",\n",
    "            alpha=0.07,\n",
    "        ))\n",
    "\n",
    "    sns.lineplot(\n",
    "        predetail_close,\n",
    "        ax=ax,\n",
    "        x=\"age\",\n",
    "        y=\"y\",\n",
    "        #palette=\"cet_glasbey_bw\",\n",
    "        #errorbar=(\"pi\", 95),\n",
    "        units=\"year\",\n",
    "        estimator=None,\n",
    "        mew=0,\n",
    "        color=\"C0\",\n",
    "        alpha=0.2,\n",
    "        zorder=0)\n",
    "    #cov.set_logscale(ax)\n",
    "    #ax.yaxis.set_major_locator(matplotlib.ticker.AutoLocator())\n",
    "    ax.legend(ncol=5, fontsize=\"x-small\")\n",
    "    #ax.set_ylim(bottom=0.95)\n",
    "    ax.xaxis.set_major_locator(matplotlib.ticker.MultipleLocator(5))\n",
    "    ax.axhline(1, color=\"lightgrey\", lw=2)\n",
    "    cov.labelend2(ax, detail, \"y\", cats=\"year\", x=\"age\",\n",
    "                  ends=(True, True),\n",
    "                  shorten=lambda n: n, fontsize=\"small\", colorize=palette)\n",
    "    #ax.set_ylim(top=1.002, bottom=0.998)\n",
    "\n",
    "    #cov.set_percent_opts(ax)\n",
    "   \n",
    "    fig.suptitle(\n",
    "        f\"{sexlabel(sex)}:\"\n",
    "        f\" {mainlabel} vs. Vorjahr mit max. Lebenserwartung\")\n",
    "    ax.set_title(\n",
    "        \"Bezogen auf eine fiktive \\\"Sterbetafelbevölkerung\\\" in\"\n",
    "        \" der konstant jährlich gleich viele Lebendgeborene hinzukommen\"\n",
    "        \"\\nDatenquelle: Sterbetafeln der Statistik Austria | Darstellung & weitere Berechnung: @zeitferne\")\n",
    "    return fig, ax\n",
    "#ax.set_xlim(left=-1, right=50)\n",
    "#ax.set_ylim(top=1.5)\n",
    "#display(ststat.xs(\"m\", level=\"sex\").xs(38, level=\"age\"))\n",
    "#display(data.query(\"age == 63\"))"
   ]
  },
  {
   "cell_type": "code",
   "execution_count": null,
   "id": "d11e0061",
   "metadata": {
    "ExecuteTime": {
     "end_time": "2023-06-29T18:52:03.364786Z",
     "start_time": "2023-06-29T18:52:03.283558Z"
    }
   },
   "outputs": [],
   "source": [
    "maxrem = (\n",
    "    ststat\n",
    "    .xs(1, level=\"age\")\n",
    "    [\"life_rem\"]\n",
    "    .groupby(level=\"sex\")\n",
    "    .transform(lambda g: g.rolling(5).agg(lambda s: s.idxmax()[0]).shift())\n",
    "    .dropna()\n",
    "    .astype(int)\n",
    ").rename(\"maxrem_idx\")\n",
    "\n",
    "def join_maxrem(df):\n",
    "    return (df\n",
    "            .join(maxrem)\n",
    "            .merge(\n",
    "                df,\n",
    "                left_on=[\"maxrem_idx\", \"sex\", \"age\"],\n",
    "                right_index=True,\n",
    "                suffixes=(None, '_max')))"
   ]
  },
  {
   "cell_type": "code",
   "execution_count": null,
   "id": "ae2657fe",
   "metadata": {
    "ExecuteTime": {
     "end_time": "2023-06-29T18:52:10.036683Z",
     "start_time": "2023-06-29T18:52:03.367784Z"
    }
   },
   "outputs": [],
   "source": [
    "n_die_s = (\n",
    "    ststat[\"n_die\"]\n",
    "    .groupby([\"year\", \"sex\"])\n",
    "    .rolling(pd.api.indexers.FixedForwardWindowIndexer(window_size=15))\n",
    "    .sum()\n",
    "    .reset_index([0, 1], drop=True)#.query(\"age <= 95\")[\"n_at\"].copy()\n",
    ")\n",
    "p_die_s = (n_die_s / ststat[\"n_surv\"]).rename(\"p_die_s\")\n",
    "#n_at.loc[n_at.index.get_level_values(\"age\") == 95] = ststat[\"n_from\"]\n",
    "p_die_s_or = p_die_s / join_maxrem(p_die_s.to_frame())[\"p_die_s_max\"]\n",
    "\n",
    "def plt_die_or(sex):\n",
    "    fig, ax = plt_year_comp(p_die_s_or, sex, \"Relative Sterbewahrscheinlichkeit/15 Jahre\")\n",
    "    ax.set_ylabel(\"Relative Änderung Sterbewahrscheinlichkeit innert 15 J (OR)\")\n",
    "    ax.set_xlabel(\"Erreichtes Lebensalter\")\n",
    "    \n",
    "for sex in (\"m\", \"f\", \"amf\"):\n",
    "    plt.figure()\n",
    "    plt_die_or(sex)"
   ]
  },
  {
   "cell_type": "code",
   "execution_count": null,
   "id": "03bfe5e0",
   "metadata": {
    "ExecuteTime": {
     "end_time": "2023-06-29T18:52:10.054727Z",
     "start_time": "2023-06-29T18:52:10.040685Z"
    }
   },
   "outputs": [],
   "source": [
    "ststat.reset_index()[\"year\"].min()"
   ]
  },
  {
   "cell_type": "code",
   "execution_count": null,
   "id": "0494a82d",
   "metadata": {
    "ExecuteTime": {
     "end_time": "2023-06-29T18:52:10.117689Z",
     "start_time": "2023-06-29T18:52:10.062693Z"
    }
   },
   "outputs": [],
   "source": [
    "ststat.query(\"year == 2021\")"
   ]
  },
  {
   "cell_type": "code",
   "execution_count": null,
   "id": "c6a27b0c",
   "metadata": {
    "ExecuteTime": {
     "end_time": "2023-06-29T18:52:11.418811Z",
     "start_time": "2023-06-29T18:52:10.120692Z"
    }
   },
   "outputs": [],
   "source": [
    "pdata = ststat.query(\"year in (1947, 1949, 1980, 2021, 2019) and sex == 'm'\").copy()\n",
    "#display(pdata)\n",
    "#pal = sns.color_palette(\"plasma_r\", n_colors=pdata[\"year\"].nunique())\n",
    "pal = sns.color_palette(n_colors=5) #[\"violet\", \"pink\"] + sns.color_palette(\"Blues\", 2) + sns.color_palette(\"Reds\", 2)\n",
    "pdata[\"pdie\"] = 1 - pdata[\"n_surv\"] / pdata.xs(0, level=\"age\")[\"n_surv\"]\n",
    "pdata[\"age_from\"] = 0\n",
    "pdata_y = pdata.copy()\n",
    "pdata_y[\"pdie\"] = 1 - pdata_y[\"n_surv\"] / pdata_y.xs(20, level=\"age\")[\"n_surv\"]\n",
    "pdata_y[\"age_from\"] = 20\n",
    "pdata_y.set_index(\"age_from\", append=True, inplace=True)\n",
    "pdata_y = pdata_y.query(\"age > age_from\")\n",
    "\n",
    "pdata_y2 = pdata.copy()\n",
    "pdata_y2[\"pdie\"] = 1 - pdata_y2[\"n_surv\"] / pdata_y2.xs(45, level=\"age\")[\"n_surv\"]\n",
    "pdata_y2[\"age_from\"] = 45\n",
    "pdata_y2.set_index(\"age_from\", append=True, inplace=True)\n",
    "pdata_y2 = pdata_y2.query(\"age > age_from\")\n",
    "pdata.set_index(\"age_from\", append=True, inplace=True)\n",
    "pdata = pdata.query(\"age > 0\")\n",
    "pdata = pd.concat([pdata, pdata_y, pdata_y2])\n",
    "\n",
    "pdata.reset_index(inplace=True)\n",
    "ax = sns.lineplot(\n",
    "    pdata,\n",
    "    x=\"age\", y=\"pdie\", hue=\"year\", style=\"age_from\",\n",
    "    palette=pal)\n",
    "fig = ax.figure\n",
    "#cov.labelend2(ax, pdata, \"life_sum\", cats=\"year\", x=\"age\", shorten=lambda y: y, colorize=pal, ends=(True, True))\n",
    "#ax.legend(ncol=2)\n",
    "ax.set_ylabel(\"Anteil der Lebendgeborenen die vorher versterben\")\n",
    "ax.set_title(\"(Niedriger ist besser)\")\n",
    "ax.set_xlabel(\"Zu erreichendes Alter\")\n",
    "#ax.set_ylim(bottom=81)\n",
    "#ax.set_ylim(bottom=0)\n",
    "cov.set_logscale(ax)\n",
    "ax.set_ylim(top=1)\n",
    "cov.set_percent_opts(ax, decimals=2)\n",
    "#ax.set_ylim(bottom=0.01)\n",
    "\n",
    "fig.suptitle(\"Österreich: Wahrscheinlichkeit vor Erreichen eines Alters zu sterben (Schnitt M/W)\", y=0.95)\n",
    "#ax.set_title(\"(Y-Achse beginnt nicht bei 0!)\")\n"
   ]
  },
  {
   "cell_type": "code",
   "execution_count": null,
   "id": "08bcf6da",
   "metadata": {
    "ExecuteTime": {
     "end_time": "2023-06-29T18:52:11.447812Z",
     "start_time": "2023-06-29T18:52:11.424836Z"
    }
   },
   "outputs": [],
   "source": [
    "ststat.query(\"sex == 'mf'\").reset_index()[\"year\"].unique()"
   ]
  },
  {
   "cell_type": "code",
   "execution_count": null,
   "id": "440f8468",
   "metadata": {
    "ExecuteTime": {
     "end_time": "2023-06-29T18:52:12.273183Z",
     "start_time": "2023-06-29T18:52:11.450815Z"
    }
   },
   "outputs": [],
   "source": [
    "pdata = ststat.query(\"year in (2021, 2020, 2019, 2014) and sex == 'mf'\").reset_index()\n",
    "#pal = sns.color_palette(\"plasma_r\", n_colors=pdata[\"year\"].nunique())\n",
    "pal = sns.color_palette(\"Blues\", 2) + sns.color_palette(\"Reds\", 2)\n",
    "ax = sns.lineplot(\n",
    "    pdata,\n",
    "    x=\"age\", y=\"life_sum\", hue=\"year\",\n",
    "    palette=pal)\n",
    "fig = ax.figure\n",
    "#cov.set_logscale(ax)\n",
    "cov.labelend2(ax, pdata, \"life_sum\", cats=\"year\", x=\"age\", shorten=lambda y: y, colorize=pal, ends=(True, True))\n",
    "ax.legend(ncol=2, title=\"Kalenderjahr\")\n",
    "ax.set_ylabel(\"Gesamte Lebenserwartung\")\n",
    "ax.set_xlabel(\"Bereits erreichtes Alter\")\n",
    "ax.set_ylim(bottom=81)\n",
    "fig.suptitle(\"Österreich: Lebenserwartung (M+F) je Kalenderjahr und erreichtem Alter\", y=0.95)\n",
    "ax.set_title(\"(Y-Achse beginnt nicht bei 0!)\")\n"
   ]
  },
  {
   "cell_type": "code",
   "execution_count": null,
   "id": "1aae3f39",
   "metadata": {
    "ExecuteTime": {
     "end_time": "2023-06-29T18:52:14.344175Z",
     "start_time": "2023-06-29T18:52:12.278177Z"
    }
   },
   "outputs": [],
   "source": [
    "def plt_p_die_cmap(sex):\n",
    "    fig, ax = plt.subplots()\n",
    "    pdata = ststat.xs(sex, level=\"sex\").query(\"age <= 85\").reset_index().pivot(index=\"age\", columns=\"year\", values=\"p_die\")\n",
    "    #pdata = pdata / pdata.shift(axis=\"columns\")\n",
    "    im = ax.imshow(\n",
    "        pdata,\n",
    "        cmap=cov.un_cmap,\n",
    "        interpolation='none',\n",
    "        origin=\"lower\", aspect=\"auto\",\n",
    "        extent=[\n",
    "            pdata.columns[0],\n",
    "            pdata.columns[-1] + 1,\n",
    "            pdata.index[0],\n",
    "            pdata.index[-1] + 1,\n",
    "        ],\n",
    "        #norm=matplotlib.colors.TwoSlopeNorm(vmin=0.75, vcenter=1, vmax=1.1),\n",
    "        norm=matplotlib.colors.LogNorm(vmin=0.0003, vmax=0.1)\n",
    "    )\n",
    "    ax.grid(False)\n",
    "    cax = fig.colorbar(im)\n",
    "    cov.set_logscale(cax.ax, reduced=True)\n",
    "    cov.set_percent_opts(cax.ax, decimals=2)\n",
    "    ax.set_ylabel(\"Lebensalter\")\n",
    "    ax.set_xlabel(\"Kalenderjahr\")\n",
    "    ax.set_title(sexlabel(sex) + \": Sterbewahrscheinlichkeit innerhalb eines Jahres\" +\n",
    "                 f\" {pdata.columns[0]}‒{pdata.columns[-1]}\")\n",
    "    ax.tick_params(left=True, bottom=True)\n",
    "    \n",
    "plt_p_die_cmap(\"m\")\n",
    "plt_p_die_cmap(\"f\")"
   ]
  },
  {
   "cell_type": "code",
   "execution_count": null,
   "id": "01feedda",
   "metadata": {
    "ExecuteTime": {
     "end_time": "2023-06-29T18:52:14.356175Z",
     "start_time": "2023-06-29T18:52:14.347176Z"
    }
   },
   "outputs": [],
   "source": [
    "st.index.get_level_values(\"sex\").unique()"
   ]
  },
  {
   "cell_type": "code",
   "execution_count": null,
   "id": "7652eae6",
   "metadata": {
    "ExecuteTime": {
     "end_time": "2023-06-29T18:52:15.288231Z",
     "start_time": "2023-06-29T18:52:14.360665Z"
    }
   },
   "outputs": [],
   "source": [
    "def plt_lexp():\n",
    "    stat0 = ststat.xs(0, level=\"age\")#.query(\"year >= 2000\")\n",
    "    fig, ax = plt.subplots()\n",
    "    cats = [(\"m\", \"C0\"), (\"amf\", \"darkgrey\"), (\"f\", \"C2\")]\n",
    "    cats.reverse()\n",
    "    for sex, cl in cats:\n",
    "        stat0x = stat0.xs(sex, level=\"sex\")[\"life_sum\"]\n",
    "        is_worsened = stat0x < stat0x.shift()\n",
    "        ax.plot(stat0x.where(is_worsened), marker=\"o\", color=\"r\", markersize=8, lw=5,# alpha=0.7,\n",
    "                label=\"Verschlechterung\" if sex is cats[0][0] else None)\n",
    "        ax.plot(stat0x, marker=\".\", label=sexlabel(sex), color=cl)\n",
    "        ax.annotate(r\"Ø\" if sex == \"amf\" else sex,\n",
    "                    (stat0x.index[-1] + 1, stat0x.iloc[-1]), va=\"center\")\n",
    "    fig.suptitle(f\"Österreich: Lebenserwartung ab Geburt im Verlauf der Jahre je Geschlecht\", y=0.93)\n",
    "    ax.legend()\n",
    "    #cov.set_percent_opts(ax)\n",
    "    ax.xaxis.set_major_locator(matplotlib.ticker.MultipleLocator(5))\n",
    "    ax.set_xlabel(\"Kalenderjahr\")\n",
    "    ax.set_ylabel(\"Lebenserwartung ab Geburt (Jahre)\")\n",
    "    stampit(fig)\n",
    "plt_lexp()"
   ]
  },
  {
   "cell_type": "code",
   "execution_count": null,
   "id": "f0d1f4f7",
   "metadata": {
    "ExecuteTime": {
     "end_time": "2023-06-29T18:52:17.348020Z",
     "start_time": "2023-06-29T18:52:15.294226Z"
    }
   },
   "outputs": [],
   "source": [
    "def plt_die50(relative=False):\n",
    "    stat0 = ststat#.xs(\"f\", level=\"sex\")#.query(\"year >= 2000\")\n",
    "    tgtage = 40\n",
    "    fromage = 1\n",
    "    nsurv50 = stat0.xs(tgtage, level='age')[\"n_surv\"]\n",
    "    psurv50 = nsurv50 / stat0.xs(fromage, level='age')[\"n_surv\"].rename(\"p_surv_rng\")\n",
    "    if relative:\n",
    "        psurv50 = 1 - psurv50\n",
    "    fig, ax = plt.subplots()\n",
    "    cats = [(\"m\", \"C0\"), (\"amf\", \"darkgrey\"), (\"f\", \"C2\")]\n",
    "    if not relative:\n",
    "        cats.reverse()\n",
    "    for sex, cl in cats:\n",
    "        psurv50x = psurv50.xs(sex, level=\"sex\")\n",
    "        if relative:\n",
    "            is_worsened = psurv50x > psurv50x.shift()\n",
    "        else:\n",
    "            is_worsened = psurv50x < psurv50x.shift()\n",
    "        ax.plot(psurv50x.where(is_worsened), marker=\"o\", color=\"r\", markersize=8, lw=5,# alpha=0.7,\n",
    "                label=\"Verschlechterung\" if sex is cats[0][0] else None)\n",
    "        ax.plot(psurv50x, marker=\".\", label=sexlabel(sex), color=cl)\n",
    "        ax.annotate(r\"Ø\" if sex == \"amf\" else sex,\n",
    "                    (psurv50x.index[-1] + 1, psurv50x.iloc[-1]), va=\"center\")\n",
    "    if relative:\n",
    "        cov.set_logscale(ax)\n",
    "        ax.yaxis.set_major_locator(matplotlib.ticker.LogLocator(\n",
    "            base=10, subs=[0.15, 0.25, 0.5, 0.7, 1]\n",
    "        ))\n",
    "    else:\n",
    "        ax.set_ylim(top=1)\n",
    "    fig.suptitle(\n",
    "        f\"Österreich: Wahrscheinlichkeit, ab Lebensjahr {fromage} das {tgtage}. nicht zu erreichen (logarithmische Skala)\" if relative else\n",
    "        f\"Österreich: Wahrscheinlichkeit dass ein/e {fromage}-jährige/r, {tgtage} Jahre oder älter wird\",\n",
    "        y=0.93)\n",
    "    ax.legend()\n",
    "    cov.set_percent_opts(ax, decimals=1 if psurv50.min() < 0.01 or psurv50.max() > 0.99 or psurv50.min() < 3 and relative else 0)\n",
    "    ax.xaxis.set_major_locator(matplotlib.ticker.MultipleLocator(5))\n",
    "    ax.set_xlabel(\"Kalenderjahr\")\n",
    "    ax.set_ylabel(\"Sterbewahrscheinlichkeit (log)\" if relative else \"Überlebenswahrscheinlichkeit\")\n",
    "    stampit(fig)\n",
    "plt_die50(True)\n",
    "plt_die50(False)"
   ]
  },
  {
   "cell_type": "code",
   "execution_count": null,
   "id": "6344c686",
   "metadata": {
    "ExecuteTime": {
     "end_time": "2023-07-06T15:38:25.454503Z",
     "start_time": "2023-07-06T15:38:25.415802Z"
    }
   },
   "outputs": [],
   "source": [
    "def split_date_state(dasr, stateprefix):\n",
    "    dasr[\"date\"] = pd.to_datetime(dasr[\"date\"] + \"1\", format=\"KALW-%G%V%u\")\n",
    "    dasr[\"date\"].freq = \"W\"\n",
    "    dasr[\"year\"] = dasr[\"date\"].dt.isocalendar().year.astype(int)\n",
    "    dasr[\"week\"] = dasr[\"date\"].dt.isocalendar().week.astype(int)\n",
    "    dasr[\"state_id\"] = dasr[\"state_id\"].str.removeprefix(stateprefix).astype(int)\n",
    "    \n",
    "def map_state(state_ids):\n",
    "    return state_ids.map(lambda i: \"Österreich\" if i == 0 else cov.BUNDESLAND_BY_ID[i])\n",
    "\n",
    "def sum_rows(df, cname, csval):\n",
    "    dfsum = df.groupby(level=[n for n in df.index.names if n != cname])[[\"n\"]].sum()\n",
    "    dfsum[cname] = csval\n",
    "    dfsum.set_index(cname, append=True, inplace=True, verify_integrity=True)\n",
    "    return dfsum.reorder_levels(df.index.names)\n",
    "\n",
    "def add_sum_rows(df, cname, csval):\n",
    "    return pd.concat([df, sum_rows(df, cname, csval)])\n",
    "\n",
    "def sum_state_sex(d5y):\n",
    "    d5y = add_sum_rows(d5y, \"state_id\", 0)\n",
    "    d5y = add_sum_rows(d5y, \"sex\", \"mf\")\n",
    "    d5y[\"state\"] = map_state(d5y.index.get_level_values(\"state_id\"))\n",
    "    return d5y.sort_index()"
   ]
  },
  {
   "cell_type": "code",
   "execution_count": null,
   "id": "c0ef1392",
   "metadata": {
    "ExecuteTime": {
     "end_time": "2023-07-06T15:38:25.568219Z",
     "start_time": "2023-07-06T15:38:25.460523Z"
    }
   },
   "outputs": [],
   "source": [
    "dsum_o = pd.read_csv(\n",
    "    util.DATAROOT / \"statat-weekly-deaths/OGD_gest_kalwo_GEST_KALWOCHE_100_latest.csv\",\n",
    "    encoding=\"ascii\",\n",
    "    sep=\";\",\n",
    "    decimal=\",\")"
   ]
  },
  {
   "cell_type": "code",
   "execution_count": null,
   "id": "f266d0ac",
   "metadata": {
    "ExecuteTime": {
     "end_time": "2023-07-06T15:38:25.934210Z",
     "start_time": "2023-07-06T15:38:25.621266Z"
    }
   },
   "outputs": [],
   "source": [
    "dsum = dsum_o.rename(\n",
    "    columns={\n",
    "        \"C-KALWOCHE-0\": \"date\",\n",
    "        \"C-B00-0\": \"state_id\",\n",
    "        \"C-ALTERGR65-0\": \"age_coarse\",\n",
    "        \"C-C11-0\": \"sex\",\n",
    "        \"F-ANZ-1\": \"n\"},\n",
    "    errors=\"raise\")\n",
    "split_date_state(dsum, \"B00-\")\n",
    "dsum[\"sex\"] = dsum[\"sex\"].map({\"C11-1\": \"m\", \"C11-2\": \"f\"})\n",
    "dsum[\"age_coarse\"] = dsum[\"age_coarse\"].map({\"ALTERSGR65-1\": 0, \"ALTERSGR65-2\": 65})\n",
    "dsum = dsum.set_index([c for c in dsum.columns if c not in (\"n\", \"state\")], verify_integrity=True)\n",
    "\n",
    "# We drop the over/under 65 distinction here\n",
    "dsum = sum_rows(dsum, \"age_coarse\", -1).reset_index(\"age_coarse\", drop=True).sort_index()\n",
    "\n",
    "dsum = sum_state_sex(dsum).reset_index(\"date\")"
   ]
  },
  {
   "cell_type": "code",
   "execution_count": null,
   "id": "6ea8ca6e",
   "metadata": {
    "ExecuteTime": {
     "end_time": "2023-07-06T15:38:26.014945Z",
     "start_time": "2023-07-06T15:38:25.941215Z"
    }
   },
   "outputs": [],
   "source": [
    "dasr_o = pd.read_csv(\n",
    "    util.DATAROOT / \"statat-weekly-deaths/OGD_rate_kalwo_GEST_KALWOCHE_STR_100_latest.csv\",\n",
    "    encoding=\"ascii\",\n",
    "    sep=\";\",\n",
    "    decimal=\",\")"
   ]
  },
  {
   "cell_type": "code",
   "execution_count": null,
   "id": "7fb86d23",
   "metadata": {
    "ExecuteTime": {
     "end_time": "2023-07-06T15:38:29.590109Z",
     "start_time": "2023-07-06T15:38:26.016955Z"
    }
   },
   "outputs": [],
   "source": [
    "ESTIMATE_ASR_FROM_RAW = False\n",
    "\n",
    "dasr = dasr_o.rename(\n",
    "    columns={\n",
    "        \"C-KALWOCHE-0\": \"date\",\n",
    "        \"C-BLWO-0\": \"state_id\",\n",
    "        \"C-SEXWO-0\": \"sex\",\n",
    "        \"F-ANZ-1\": \"n\",\n",
    "        \"F-RATE-1\": \"rate\"},\n",
    "    errors=\"raise\")\n",
    "\n",
    "split_date_state(dasr, \"BLWO-\")\n",
    "#dasr[\"date\"] -= pd.Timedelta(25, 'W')\n",
    "#dasr[\"jun_year\"] = (dasr[\"date\"] - pd.Timedelta(25, 'W')).dt.isocalendar().year.astype(int)\n",
    "\n",
    "\n",
    "\n",
    "dasr[\"sex\"] = dasr[\"sex\"].map({\"SEXWO-0\": \"mf\", \"SEXWO-1\": \"m\", \"SEXWO-2\": \"f\"})\n",
    "\n",
    "dasr.set_index([c for c in dasr.columns if c not in (\"n\", \"state\", \"date\", \"rate\")], inplace=True, verify_integrity=True)\n",
    "if ESTIMATE_ASR_FROM_RAW:\n",
    "    dasr_lastdate = dasr[\"date\"].max()\n",
    "    dasr = dsum[[\"n\", \"state\", \"date\"]].join(dasr[\"rate\"])\n",
    "    dasr_pr = dasr\n",
    "    dasr_pr = dasr_pr[np.isfinite(dasr_pr[\"rate\"]) & np.isfinite(dasr_pr[\"n\"])]\n",
    "    dasr_pr = dasr_pr.groupby([n for n in dasr_pr.index.names if n not in (\"year\", \"week\")]).last()\n",
    "    dasr[\"rate\"] = dasr[\"rate\"].combine_first(dasr[\"n\"] * (dasr_pr[\"rate\"] / dasr_pr[\"n\"]))\n",
    "    #display(dasr[~np.isfinite(dasr[\"rate\"])])\n",
    "    #display(dasr[~np.isfinite(dasr[\"n\"])])\n",
    "    estimate_count = int(np.round((dasr[\"date\"].max() - dasr_lastdate).days / 7))\n",
    "    ESTIMATE_DISCLAIMER = f\" | Letzte {estimate_count} Wochen grob geschätzt\"\n",
    "else:\n",
    "    estimate_count = 0\n",
    "    ESTIMATE_DISCLAIMER = \"\"\n",
    "    dasr[\"state\"] = map_state(dasr.index.get_level_values(\"state_id\"))\n",
    "dasr.set_index(\"date\", append=True, inplace=True)\n",
    "\n",
    "    \n",
    "w3m = (\n",
    "    dasr\n",
    "    .groupby([\"state_id\", \"sex\"])[\"rate\"]\n",
    "    .rolling(5, center=True, min_periods=1).min())\n",
    "rate_min = w3m.groupby([\"state_id\", \"sex\", \"week\"]).min()\n",
    "\n",
    "# Need to move \"week\" before \"year\" to allow join\n",
    "dasr = dasr.reorder_levels([\"state_id\", \"sex\", \"week\", \"year\", \"date\"])\n",
    "\n",
    "dasr[\"prate\"] = dasr[\"rate\"] - rate_min\n",
    "#display(dasr[\"rate\"], rate_min)\n",
    "dasr.reset_index(inplace=True)\n",
    "\n",
    "dasr[\"jun_year\"] = dasr[\"year\"]\n",
    "is_prejun = dasr[\"week\"] < 21\n",
    "dasr.loc[is_prejun, \"jun_year\"] -= 1\n",
    "dasr[\"jun_week\"] = dasr[\"week\"]\n",
    "dasr.loc[is_prejun, \"jun_week\"] += dasr[\"jun_year\"].map(\n",
    "    lambda y: (pd.Timestamp.fromisocalendar(y + 1, 1, 1) - pd.Timedelta(1, 'W')).isocalendar().week).astype(int)\n",
    "\n",
    "def calc1ydate(ycol):\n",
    "    # Align around Gregorian year 2022. Most ISO-week-years start slightly before the Gregorian year,\n",
    "    # but the ISO year of the Sunday (7th day) of the first ISO week will match the Gregorian year.\n",
    "    return (\n",
    "        pd.Timestamp(year=2022, month=1, day=1) +\n",
    "        (dasr[\"date\"] - dasr[ycol].map(\n",
    "            lambda y: pd.Timestamp(year=pd.Timestamp.fromisocalendar(y, 1, 7).year, month=1, day=1))))\n",
    "\n",
    "dasr[\"1ydate\"] = calc1ydate(\"year\")\n",
    "dasr[\"jun_1ydate\"] = calc1ydate(\"jun_year\")\n",
    "\n",
    "def add_period_sums(prefix, idcol):\n",
    "    dasr.set_index([\"state_id\", \"sex\", \"week\", idcol], inplace=True, verify_integrity=True)\n",
    "    dasr[prefix + \"crate\"] = dasr.groupby([idcol, \"state_id\", \"sex\"])[\"rate\"].cumsum()\n",
    "    dasr[prefix + \"cprate\"] = dasr.groupby([idcol, \"state_id\", \"sex\"])[\"prate\"].cumsum()\n",
    "    dasr.reset_index(inplace=True)\n",
    "add_period_sums(\"y\", \"year\")\n",
    "add_period_sums(\"jy\", \"jun_year\")\n",
    "#dasr.set_index([\"state_id\", \"sex\", \"year\", \"week\"], inplace=True)\n",
    "#dasr.sort_index(inplace=True)\n",
    "\n",
    "#print(dasr[\"date\"].max().strftime(\"%GW%V %x\"))\n",
    "print(\"Daten bis:\", (dasr[\"date\"].max() + timedelta(6)).strftime(\"%G KW %V, endend %x\"))\n",
    "DASR_LONGSTAMP = \"Daten: Statistik Austria - data.statistik.gv.at | Darstellung: @zeitferne | Bis \" + dasr[\"date\"].max().strftime(\"%GW%V\")"
   ]
  },
  {
   "cell_type": "code",
   "execution_count": null,
   "id": "5f09c09f",
   "metadata": {
    "ExecuteTime": {
     "end_time": "2023-07-06T15:38:29.627331Z",
     "start_time": "2023-07-06T15:38:29.593417Z"
    }
   },
   "outputs": [],
   "source": [
    "xs0 = dasr.query(\"state == 'Österreich' and sex == 'mf'\")[[\"rate\", \"n\", \"date\"]]\n",
    "xs0[\"deaths_per_promille\"] = xs0[\"n\"] /  xs0[\"rate\"]\n",
    "xs0.query(\"date.dt.isocalendar().year == 2022\")[\"deaths_per_promille\"].mean()"
   ]
  },
  {
   "cell_type": "code",
   "execution_count": null,
   "id": "6645071a",
   "metadata": {
    "ExecuteTime": {
     "end_time": "2023-07-06T15:38:29.849668Z",
     "start_time": "2023-07-06T15:38:29.630346Z"
    }
   },
   "outputs": [],
   "source": [
    "d5y_o = pd.read_csv(\n",
    "    util.DATAROOT / \"statat-weekly-deaths/OGD_gest_kalwo_alter_GEST_KALWOCHE_5J_100_latest.csv\",\n",
    "    encoding=\"ascii\",\n",
    "    sep=\";\",\n",
    "    decimal=\",\")"
   ]
  },
  {
   "cell_type": "code",
   "execution_count": null,
   "id": "ea4fe3f7",
   "metadata": {
    "ExecuteTime": {
     "end_time": "2023-07-06T15:38:31.225109Z",
     "start_time": "2023-07-06T15:38:29.869917Z"
    }
   },
   "outputs": [],
   "source": [
    "d5y = d5y_o.rename(\n",
    " columns={\n",
    "        \"C-KALWOCHE-0\": \"date\",\n",
    "        \"C-B00-0\": \"state_id\",\n",
    "        \"C-ALTER5-0\": \"age\",\n",
    "        \"C-C11-0\": \"sex\",\n",
    "        \"F-ANZ-1\": \"n\",\n",
    "    },\n",
    "    errors=\"raise\")\n",
    "split_date_state(d5y, \"B00-\")\n",
    "d5y[\"sex\"] = d5y[\"sex\"].map({\"C11-1\": \"m\", \"C11-2\": \"f\", \"C11-0\": \"x\"})\n",
    "d5y[\"age\"] = (d5y[\"age\"].str.removeprefix(\"ALTER5-\").astype(int) - 1) * 5\n",
    "d5y = d5y.set_index([c for c in d5y.columns if c not in (\"n\", \"state\")])\n",
    "d5y = sum_state_sex(d5y)"
   ]
  },
  {
   "cell_type": "code",
   "execution_count": null,
   "id": "a8aa8a82",
   "metadata": {
    "ExecuteTime": {
     "end_time": "2023-07-06T15:38:32.188064Z",
     "start_time": "2023-07-06T15:38:31.256316Z"
    }
   },
   "outputs": [],
   "source": [
    "agefrom = 5\n",
    "ageto = 39\n",
    "d5x = (d5y\n",
    "       .xs(0, level=\"state_id\")\n",
    "       .xs(\"mf\", level=\"sex\")\n",
    "       .query(f\"age >= {agefrom} and age <= {ageto} and year >= 2001\")\n",
    "       .groupby([\"date\"])[\"n\"].sum().resample(\"7d\").asfreq().fillna(0))#.reset_index()\n",
    "fig, ax = plt.subplots()\n",
    "#ax = d5x.reset_index().query(\"date == '2023-02-20'\").plot(\n",
    "#    x=\"date\", y=\"n\", lw=0, marker=\"X\", color=\"r\", markersize=10, legend=False, ax=ax)\n",
    "#d5x[\"date\"] = matplotlib.dates.date2num(d5x[\"date\"])\n",
    "ax.plot(d5x, marker=\".\", lw=0.1)\n",
    "\n",
    "ax.set_ylabel(\"Anzahl\")\n",
    "ax.figure.suptitle(f\"Österreich: Sterbefälle {agefrom}-{ageto}-Jähriger je Kalenderwoche (Absolutzahlen - wächst mit Bevölkerung!)\", y=0.95)\n",
    "ax.set_xlabel(\"Kalenderwoche bzw. Jahr\")\n",
    "ax.xaxis.set_major_locator(matplotlib.dates.YearLocator(2))\n",
    "ax.xaxis.set_minor_locator(matplotlib.dates.YearLocator())\n",
    "ax.yaxis.set_major_locator(matplotlib.ticker.MaxNLocator('auto', integer=True))\n",
    "ax.grid(which=\"minor\", alpha=0.5)\n",
    "ax.set_title(DASR_LONGSTAMP);\n",
    "#ax.set_ylim(bottom=0)\n",
    "#d5x.plot(lw=0.4)\n",
    "#cov.set_date_opts(ax)"
   ]
  },
  {
   "cell_type": "code",
   "execution_count": null,
   "id": "db9eed0c",
   "metadata": {
    "ExecuteTime": {
     "end_time": "2023-07-06T15:38:34.306041Z",
     "start_time": "2023-07-06T15:38:32.279197Z"
    }
   },
   "outputs": [],
   "source": [
    "def plt_more_deaths(\n",
    "    periodname = \"jun_year\",\n",
    "    periodx = \"1ydate\",\n",
    "    periodsum = \"jycprate\"):\n",
    "    maxyear = dasr[periodname].max()\n",
    "    minyear = maxyear - 10\n",
    "    selbl = \"Österreich\"\n",
    "    sid = next(i[0] for i in cov.BUNDESLAND_BY_ID.items() if i[1] == selbl)\n",
    "    if sid == 10:\n",
    "        sid = 0\n",
    "    pdata = dasr.query(f\"state_id == {sid} and sex == 'mf'\").sort_values(by=\"date\")#.sort_values(by=\"year\", ascending=False, kind=\"stable\")\n",
    "    #pdata.set_index(\"date\")[\"ycrate\"].plot()\n",
    "\n",
    "    plt.figure()\n",
    "    is_old = pdata[periodname] <= minyear\n",
    "    pdata_old = pdata[is_old].query(periodname + \" >= \" + repr(pdata[periodname].min()))\n",
    "    pdata_new = pdata[~is_old].copy()\n",
    "    if periodname.startswith(\"jun_\"):\n",
    "        pdata_new[periodname + \"_l\"] = pdata_new[periodname].astype(str) + \"/\" + (pdata_new[periodname] % 100 + 1).astype(str)\n",
    "    else:\n",
    "        pdata_new[periodname + \"_l\"] = pdata_new[periodname]\n",
    "    #display(pdata_new)\n",
    "    paln = \"tab10\"#cov.un_l_cmap\n",
    "    pal = collections.deque(sns.color_palette(paln, n_colors=maxyear - minyear)[::-1])\n",
    "    #pal.rotate(-1)\n",
    "    pal = list(pal)\n",
    "    pdata_exact = pdata_new if estimate_count == 0 else pdata_new[:-estimate_count]\n",
    "    drawparams = dict(x=periodx, sort=False, y=periodsum, hue=periodname + \"_l\",\n",
    "                      marker=\".\", mew=0)\n",
    "    ax = sns.lineplot(pdata_exact, palette=pal, **drawparams)\n",
    "    if estimate_count > 0:\n",
    "        estimated = pdata_new[-estimate_count - 1:]\n",
    "        sns.lineplot(\n",
    "            estimated,\n",
    "            ls=\":\",\n",
    "            palette=pal[-estimated[periodname].nunique():],\n",
    "            legend=False,\n",
    "            **drawparams)\n",
    "    #sns.color_palette(\"plasma\", desat=.3, n_colors=pdata_old[\"year\"].nunique()))\n",
    "    cov.labelend2(ax, pdata_new, periodsum, cats=periodname, x=periodx, shorten = lambda y: str(y % 100),\n",
    "                  colorize=pal)\n",
    "    if True:\n",
    "        ax.set_ylim(*ax.get_ylim())\n",
    "        ax = sns.lineplot(\n",
    "            pdata_old, x=periodx, sort=False, y=periodsum, zorder=1, hue=periodname, palette=\"Greys\",\n",
    "                          alpha=0.5, lw=0.7, units=periodname, estimator=None, legend=False)\n",
    "    if \"date\" in periodx:\n",
    "        cov.set_date_opts(ax, showyear=False)\n",
    "    #cov.labelend2(ax, pdata_old, periodsum, cats=periodname, x=periodx, shorten = lambda y: format(y % 100, \"02d\"))\n",
    "    #sns.lineplot(pdata_new, x=\"week\", y=\"rate\", hue=\"year\", palette=\"Paired\")\n",
    "    ax.legend(ncol=4)\n",
    "    ax.set_ylabel(\"Altersstandardisierte Sterberate (Promille)\")\n",
    "    if \"date\" not in periodx:\n",
    "        ax.set_xlabel(\"Kalenderwoche\" + (\" (im Folgejahr weiternummeriert)\" if periodx.startswith(\"jun_\") else \"\"))\n",
    "    else:\n",
    "        ax.set_xlabel(None)\n",
    "    fig = ax.figure\n",
    "    fig.suptitle(\n",
    "        f\"{selbl}: Altersstandardisierte Sterberaten\",\n",
    "        #y=0.96\n",
    "    )\n",
    "    ax.set_title(\n",
    "        \"Kumulative Summe der Differenz der wöchentlichen Sterberate zum Allzeit-Wochen-Minimum von \"\n",
    "        + str(pdata[\"rate\"].min()) + \"\\n\" + DASR_LONGSTAMP\n",
    "    )\n",
    "    if periodname.startswith(\"jun_\"):\n",
    "        ax.axvline(pd.to_datetime(date(pdata_new[periodx].dt.year.max(), 1, 1)), color=\"k\", ls=\"--\", zorder=1, lw=1)\n",
    "    #ax.xaxis.set_major_formatter(lambda x, _: str((int(x - 1) + 25) % 53 + 1))\n",
    "plt_more_deaths(\"year\", \"1ydate\", \"ycprate\")\n",
    "plt_more_deaths(\"jun_year\", \"jun_1ydate\", \"jycprate\")"
   ]
  },
  {
   "cell_type": "code",
   "execution_count": null,
   "id": "1caf15bd",
   "metadata": {
    "ExecuteTime": {
     "end_time": "2023-07-06T15:38:36.676377Z",
     "start_time": "2023-07-06T15:38:34.328060Z"
    }
   },
   "outputs": [],
   "source": [
    "import collections\n",
    "\n",
    "def plt_weekly_deaths(\n",
    "    periodname = \"jun_year\",\n",
    "    periodx = \"jun_1ydate\",\n",
    "    selbl = \"Österreich\"):\n",
    "    firstnew = dasr[periodname].unique()[-10]\n",
    "    pdata_new = dasr.query(f\"state == '{selbl}' and sex == 'mf' and {periodname} >= {firstnew}\").copy()\n",
    "    if periodname.startswith(\"jun_\"):\n",
    "        pdata_new[periodname + \"_l\"] = pdata_new[periodname].astype(str) + \"/\" + (pdata_new[periodname] % 100 + 1).astype(str)\n",
    "    else:\n",
    "        pdata_new[periodname + \"_l\"] = pdata_new[periodname]\n",
    "    pdata_old = dasr.query(f\"state == '{selbl}' and sex == 'mf' and {periodname} < {firstnew} and {periodname} >= 2000\")\n",
    "    lastyear_name = pdata_new[periodname].max()\n",
    "    lastyear = pdata_new[pdata_new[periodname] == lastyear_name]\n",
    "    pal = collections.deque(sns.color_palette(n_colors=pdata_new[periodname].nunique())[::-1])\n",
    "    #pal.rotate(-1)\n",
    "    pal = list(pal)\n",
    "    ax = sns.lineplot(\n",
    "        pdata_new[pdata_new[periodname] != lastyear_name], x=periodx, sort=False, y=\"rate\",\n",
    "        hue=periodname + \"_l\",\n",
    "          palette=pal[:-1], marker=\".\", mew=0\n",
    "        #size=[2] * (len(pdata_new) - len(lastyear)) + [3] * len(lastyear)\n",
    "    )\n",
    "    last_draw_params = dict(x=periodx, sort=False, y=\"rate\",\n",
    "            hue=periodname + \"_l\",\n",
    "            palette=pal[-1:], marker=\".\", mew=0, lw=2)\n",
    "    if estimate_count == 0:\n",
    "        ax = sns.lineplot(\n",
    "            pdata_new[pdata_new[periodname] == lastyear_name],\n",
    "            markersize=10,\n",
    "            **last_draw_params\n",
    "        )\n",
    "    else:\n",
    "        ax = sns.lineplot(\n",
    "            pdata_new[pdata_new[periodname] == lastyear_name].iloc[:-estimate_count],\n",
    "            markersize=10,\n",
    "            **last_draw_params,\n",
    "        )\n",
    "        ax = sns.lineplot(\n",
    "            pdata_new[pdata_new[periodname] == lastyear_name].iloc[-estimate_count - 1:],\n",
    "            ls=\":\",\n",
    "            markersize=7,\n",
    "            legend=False,\n",
    "            **last_draw_params,\n",
    "        )\n",
    "    ax.set_ylim(*ax.get_ylim())\n",
    "    ax = sns.lineplot(\n",
    "        pdata_old, x=periodx, sort=False, y=\"rate\", legend=False, hue=periodname, palette=\"Greys\",\n",
    "                      mew=0, color=\"k\", alpha=0.4, units=periodname, estimator=None, zorder=1, lw=0.7)\n",
    "    #sns.color_palette(\"plasma\", desat=.3, n_colors=pdata_old[\"year\"].nunique()))\n",
    "    if periodname.startswith(\"jun_\"):\n",
    "        cov.labelend2(ax, pdata_new, \"rate\", cats=periodname, x=periodx,\n",
    "           shorten = lambda y: str(y % 100), colorize=pal, ends=(True, False))\n",
    "        cov.labelend2(ax, pdata_new, \"rate\", cats=periodname, x=periodx,\n",
    "           shorten = lambda y: str(y % 100  + 1), colorize=pal, ends=(False, True))\n",
    "    else:\n",
    "        cov.labelend2(ax, pdata_new, \"rate\", cats=periodname, x=periodx,\n",
    "            shorten = lambda y: str(y % 100), colorize=pal, ends=(True, True))\n",
    "    cov.set_date_opts(ax, showyear=False)\n",
    "    ax.set_ylabel(\"Altersstandardisierte Sterberate (Promille)\")\n",
    "    #ax.set_xlabel(\"Kalenderwoche (im Folgejahr weiternummeriert)\")\n",
    "    fig = ax.figure\n",
    "    fig.suptitle(\n",
    "        f\"{selbl}: Altersstandardisierte Sterberaten\",\n",
    "        y=0.96)\n",
    "    ax.set_title(DASR_LONGSTAMP + ESTIMATE_DISCLAIMER)\n",
    "    ax.legend()\n",
    "    ax.set_xlabel(None)\n",
    "    if (periodname.startswith(\"jun_\")):\n",
    "        ax.axvline(pd.to_datetime(date(pdata_new[periodx].dt.year.max(), 1, 1)), color=\"k\", ls=\"--\", zorder=1, lw=1)\n",
    "plt_weekly_deaths()\n",
    "plt.figure()\n",
    "plt_weekly_deaths(\"year\", \"1ydate\")"
   ]
  },
  {
   "cell_type": "code",
   "execution_count": null,
   "id": "f09216f6",
   "metadata": {
    "ExecuteTime": {
     "end_time": "2023-07-06T15:38:37.787274Z",
     "start_time": "2023-07-06T15:38:36.733877Z"
    }
   },
   "outputs": [],
   "source": [
    "def draw_x():\n",
    "    pal = sns.color_palette(\"tab10\", n_colors=9)\n",
    "    periodname = \"jun_year\"\n",
    "    periodx = \"date\"\n",
    "    cratename = \"jycprate\"\n",
    "    year = 2023\n",
    "    pdata = dasr.query(f\"{periodname} == {year} and sex == 'mf' and state_id != 0\").copy()\n",
    "    rate_min0 = pdata[\"rate\"].min()\n",
    "    pdata[\"prate\"] = pdata[\"rate\"] - rate_min0\n",
    "    pdata[\"jycprate\"] = pdata.groupby([\"jun_year\", \"state_id\", \"sex\"])[\"prate\"].cumsum()\n",
    "    pdata[\"ycprate\"] = pdata.groupby([\"year\", \"state_id\", \"sex\"])[\"prate\"].cumsum()\n",
    "    ax = sns.lineplot(\n",
    "        pdata, sort=False, x=periodx, y=cratename, hue=\"state\",\n",
    "                      palette=pal, marker=\".\", mew=0) #sns.color_palette(\"plasma\", desat=.3, n_colors=pdata_old[\"year\"].nunique()))\n",
    "    cov.labelend2(ax, pdata, cratename, cats=\"state\", x=periodx, colorize=pal, ends=(True, True))\n",
    "    ax.set_ylabel(\"Altersstandardisierte Sterberate pro Woche (Promille)\")\n",
    "    #ax.set_xlabel(\"Kalenderwoche\")\n",
    "    ax.legend(ncol=2)\n",
    "    fig = ax.figure\n",
    "    fig.suptitle(\n",
    "        f\"Österreich: Altersstandardisierte Sterberaten {year}\",\n",
    "        #y=0.96\n",
    "    )\n",
    "    ax.set_title(\"Kumulative Summe der Differenz der wöchentlichen Sterberate zum Wochen-Minimum im Ausschnitt (\" + str(rate_min0) + \")\\n\" + DASR_LONGSTAMP)\n",
    "    cov.set_date_opts(ax)\n",
    "draw_x()"
   ]
  },
  {
   "cell_type": "code",
   "execution_count": null,
   "id": "ea844931",
   "metadata": {
    "ExecuteTime": {
     "end_time": "2023-07-06T15:38:38.614627Z",
     "start_time": "2023-07-06T15:38:37.790266Z"
    }
   },
   "outputs": [],
   "source": [
    "def plt_dw_bl_roll3():\n",
    "    pdata = dasr.query(\"sex == 'mf' and state_id != 0\").copy().set_index([\"date\", \"state_id\"])\n",
    "    rwidth=3\n",
    "    pdata[\"rrate\"] = pdata[\"rate\"].groupby(\"state_id\").transform(lambda s: s.rolling(rwidth).mean())\n",
    "    pdata.reset_index(inplace=True)\n",
    "    pdata = pdata[pdata[\"date\"] >= pdata.iloc[-1][\"date\"] - timedelta(400)]\n",
    "    ax = sns.lineplot(\n",
    "        pdata, sort=False, x=\"date\", y=\"rrate\", hue=\"state\",\n",
    "                      palette=\"tab10\",\n",
    "        #marker=\".\", mew=0,\n",
    "        alpha=0.8) #sns.color_palette(\"plasma\", desat=.3, n_colors=pdata_old[\"year\"].nunique()))\n",
    "    #cov.labelend2(ax, pdata, \"rate\", cats=\"state\", x=\"date\", colorize=pal, ends=(True, True))\n",
    "    ax.set_ylabel(\"Altersstandardisierte Sterberate pro Woche (Promille)\")\n",
    "    #ax.set_xlabel(\"Kalenderwoche\")\n",
    "    ax.legend(ncol=2, fontsize=\"small\")\n",
    "    fig = ax.figure\n",
    "    fig.suptitle(\n",
    "        f\"Österreich: Altersstandardisierte Sterberaten, {rwidth}-Wochen-Schnitt (nachlaufend)\",\n",
    "        y=0.96)\n",
    "    #ax.set_title(\"Kumulative Summe der Differenz der wöchentlichen Sterberate zum Wochen-Minimum im Ausschnitt (\" + str(rate_min0) + \")\")\n",
    "    cov.set_date_opts(ax)\n",
    "    fig.autofmt_xdate()\n",
    "    ax.xaxis.set_major_locator(matplotlib.dates.MonthLocator(interval=2))\n",
    "    ax.xaxis.set_minor_locator(matplotlib.dates.MonthLocator())\n",
    "    ax.grid(which=\"minor\", axis=\"x\", lw=0.3)\n",
    "    ax.set_title(DASR_LONGSTAMP)\n",
    "plt_dw_bl_roll3()"
   ]
  },
  {
   "cell_type": "code",
   "execution_count": null,
   "id": "59d5aafa",
   "metadata": {
    "ExecuteTime": {
     "end_time": "2023-07-06T15:38:39.481507Z",
     "start_time": "2023-07-06T15:38:38.616641Z"
    }
   },
   "outputs": [],
   "source": [
    "bl = \"Österreich\"\n",
    "pdata = dasr.query(f\"state == '{bl}' and sex == 'mf'\").set_index(\"date\")[\"rate\"]\n",
    "start = pd.to_datetime(\"1999-01-01\")\n",
    "fig, ax = plt.subplots()\n",
    "#ax.plot(pdata.rolling(53).quantile(0.1).loc[start:],\n",
    "#         label=\"10. Perzentil über 53 Wochen\")\n",
    "ax.plot(pdata.rolling(12).mean(),#.loc[start:],\n",
    "        label=\"12-Wochen-Schnitt\", color=\"C1\")\n",
    "#ax.set_ylim(*ax.get_ylim())\n",
    "#ax.plot(pdata.rolling(53).quantile(0.9).loc[start:],\n",
    "#        label=\"90. Perzentil über 53 Wochen\", color=\"C2\")\n",
    "#ax.plot(pdata.loc[start:], color=\"grey\", lw=0.7, label=\"Altersstandardisierte Sterberate/Woche\",\n",
    "#       zorder=1)\n",
    "fig.suptitle(\n",
    "    f\"{bl}: Altersstandardisierte Sterberaten (Datenquelle: Statistik Austria - data.statistik.gv.at)\",\n",
    "    y=0.96)\n",
    "ax.set_title(DASR_LONGSTAMP)\n",
    "ax.set_ylabel(\"Altersstandardisierte Sterberate (Promille)\")\n",
    "ax.legend()\n",
    "ax.xaxis.set_major_locator(matplotlib.dates.YearLocator(2))\n",
    "ax.xaxis.set_minor_locator(matplotlib.dates.YearLocator())\n",
    "ax.grid(which=\"minor\", alpha=0.5)\n",
    "#ax.set_xlim(left=pd.to_datetime(\"2015-01-01\"))"
   ]
  }
 ],
 "metadata": {
  "kernelspec": {
   "display_name": "Python 3 (ipykernel)",
   "language": "python",
   "name": "python3"
  },
  "language_info": {
   "codemirror_mode": {
    "name": "ipython",
    "version": 3
   },
   "file_extension": ".py",
   "mimetype": "text/x-python",
   "name": "python",
   "nbconvert_exporter": "python",
   "pygments_lexer": "ipython3",
   "version": "3.11.4"
  }
 },
 "nbformat": 4,
 "nbformat_minor": 5
}
