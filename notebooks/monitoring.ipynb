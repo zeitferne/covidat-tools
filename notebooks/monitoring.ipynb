{
 "cells": [
  {
   "cell_type": "markdown",
   "id": "39d5dd00-1afb-4b2a-9e20-fb021eab433c",
   "metadata": {},
   "source": [
    "# Österreich: Vermischtes Monitoring zu Gesundheits- & SARS-CoV-2-Daten\n",
    "\n",
    "Erstellt aus <https://github.com/zeitferne/covidat-tools/blob/main/notebooks/monitoring.ipynb>\n",
    "\n",
    "Inhalt:\n",
    "\n",
    "* [Medikamentenmangel](#Medikamentenmangel)\n",
    "* [SARS-CoV-2-Abwassermonitoring](#SARS-CoV-2-Abwassermonitoring)\n",
    "* [Krankenstand](#Krankenstand)\n",
    "* [Influenza und Atemwegserkrankungen](#Influenza-und-Atemwegserkrankungen)"
   ]
  },
  {
   "cell_type": "code",
   "execution_count": null,
   "id": "6d8d19cb-20cf-40c6-a0b7-f5e8c6628fb0",
   "metadata": {},
   "outputs": [],
   "source": [
    "#@export: --no-input"
   ]
  },
  {
   "cell_type": "code",
   "execution_count": null,
   "id": "4c3ea25f",
   "metadata": {
    "ExecuteTime": {
     "end_time": "2023-07-17T08:22:20.019834Z",
     "start_time": "2023-07-17T08:22:19.972203Z"
    }
   },
   "outputs": [],
   "source": [
    "import locale\n",
    "locale.setlocale(locale.LC_ALL, \"de_AT.UTF-8\");"
   ]
  },
  {
   "cell_type": "code",
   "execution_count": null,
   "id": "2e721fdc",
   "metadata": {
    "ExecuteTime": {
     "end_time": "2023-07-17T08:22:28.552018Z",
     "start_time": "2023-07-17T08:22:20.035832Z"
    }
   },
   "outputs": [],
   "source": [
    "%matplotlib inline\n",
    "%precision %.4f\n",
    "#%load_ext snakeviz\n",
    "import colorcet\n",
    "import pandas as pd\n",
    "import matplotlib.pyplot as plt\n",
    "import matplotlib.dates\n",
    "import matplotlib.ticker\n",
    "import matplotlib.colors\n",
    "import seaborn as sns\n",
    "from importlib import reload\n",
    "from datetime import date, datetime, timedelta\n",
    "from IPython.display import display, Markdown, HTML\n",
    "import re\n",
    "\n",
    "from covidat import util, covdata, cov, collectshortage\n",
    "\n",
    "pd.options.display.precision = 4\n",
    "\n",
    "plt.rcParams['figure.figsize'] = (16*0.7,9*0.7)\n",
    "plt.rcParams['figure.dpi'] =  120 #80\n",
    "plt.rcParams['figure.facecolor'] = '#fff'\n",
    "sns.set_theme(style=\"whitegrid\")\n",
    "sns.set_palette('tab10')\n",
    "\n",
    "plt.rcParams['image.cmap'] = cov.un_cmap\n",
    "\n",
    "pd.options.display.max_rows = 120\n",
    "pd.options.display.min_rows = 40"
   ]
  },
  {
   "cell_type": "code",
   "execution_count": null,
   "id": "9c9f60df-b14e-49ac-848b-202ed03934b3",
   "metadata": {},
   "outputs": [],
   "source": [
    "display(Markdown(f\"Zuletzt erstellt am *{datetime.now().strftime('%a %d.%m.%Y, nach %H Uhr')}* (Daten können älter sein, siehe einzelne Diagramme)\"))"
   ]
  },
  {
   "cell_type": "markdown",
   "id": "704b6a7f-beb0-41b1-bdca-e5d966932988",
   "metadata": {},
   "source": [
    "# Medikamentenmangel\n",
    "\n",
    "* Daten von: Österreichiches Bundesamt für Sicherheit im Gesundheitswesen (BASG)\n",
    "* Daten-URLs:\n",
    "  * <https://medicineshortage.basg.gv.at/vertriebseinschraenkungen> (Webansicht und xlsx)\n",
    "  * <https://www.basg.gv.at/fuer-unternehmen/datenbereitstellung-vertriebseinschraenkungen> (xml)\n",
    "* Daten-Aktualisierung: Täglich (mit sporadischen Aussetzern, v.a. an Nicht-Werktagen)\n",
    "* [Mehr Daten-Infos](https://github.com/zeitferne/covidat-data/blob/main/docs/basg-medicineshortage.md)"
   ]
  },
  {
   "cell_type": "code",
   "execution_count": null,
   "id": "5d7f98ca",
   "metadata": {
    "ExecuteTime": {
     "end_time": "2023-07-17T08:22:56.477451Z",
     "start_time": "2023-07-17T08:22:56.168866Z"
    }
   },
   "outputs": [],
   "source": [
    "medshort = pd.read_csv(\n",
    "    util.COLLECTROOT / \"medshort/medshort.csv\",\n",
    "    sep=\";\")\n",
    "medshort[\"Datum\"] = cov.parseutc_at(medshort[\"Datum\"], format=cov.ISO_DATE_FMT)\n",
    "medshort.set_index(\"Datum\", inplace=True)\n",
    "if False:\n",
    "    fig, ax = plt.subplots()\n",
    "    ax.plot(medshort[\"NLimitedMeds\"], marker=\"o\")\n",
    "    ax.set_ylim(bottom=0, top=medshort[\"NLimitedMeds\"].max() * 1.05)\n",
    "    cov.set_date_opts(ax)\n",
    "    fig.suptitle(\"Anzahl Einträge in Liste der Meldungen zu Vertriebseinschränkungen von Arzneispezialitäten\")\n",
    "    ax.set_title(\"Quelle: medicineshortage.basg.gv.at/vertriebseinschraenkungen\")"
   ]
  },
  {
   "cell_type": "code",
   "execution_count": null,
   "id": "0f60474f",
   "metadata": {
    "ExecuteTime": {
     "end_time": "2023-07-17T08:22:56.486990Z",
     "start_time": "2023-07-17T08:22:56.480448Z"
    }
   },
   "outputs": [],
   "source": [
    "def labelavail(avail):\n",
    "    return (avail\n",
    "        .replace(\"verfügbar gemäß §4 (1)\", \"§4(1) (~Mangel entgegen Herstellerangabe)\")\n",
    "        .replace(\"teilweise verfügbar\", \"gewisse Größen voll verfügbar (Verwechslung mit eing. verf. möglich)\"))"
   ]
  },
  {
   "cell_type": "code",
   "execution_count": null,
   "id": "5654d939",
   "metadata": {
    "ExecuteTime": {
     "end_time": "2023-07-17T08:22:59.187495Z",
     "start_time": "2023-07-17T08:22:56.490979Z"
    }
   },
   "outputs": [],
   "source": [
    "med_x = pd.read_csv(util.COLLECTROOT / \"medshort/medshort_ex.csv\", encoding=\"utf-8\", sep=\";\"\n",
    "                   ).query(\"Datum >= '2022-12-01' and (SourceFormat == 'xml' or Datum <= '2023-06-25')\")\n",
    "display(med_x.query(\"Availability == 'verfügbar'\"))\n",
    "med_x = med_x.query(\"Availability != 'verfügbar'\")\n",
    "med_x[\"Datum\"] = pd.to_datetime(med_x[\"Datum\"], format=\"%Y-%m-%d\")\n",
    "med_x[\"Datum\"].freq = \"D\"\n",
    "#med_x[\"Datum_n\"] = matplotlib.dates.date2num(med_x[\"Datum\"])\n",
    "AvailC = pd.CategoricalDtype([\n",
    "    \"nicht verfügbar\",\n",
    "    \"eingeschränkt verfügbar\",\n",
    "    \"verfügbar gemäß §4 (1)\",\n",
    "    \"teilweise verfügbar\"])\n",
    "med_x[\"Avail_c\"] = med_x[\"Availability\"].astype(AvailC)\n",
    "med_x.sort_values([\"Datum\", \"Avail_c\"], kind=\"stable\", inplace=True)\n",
    "#display(med_x)\n",
    "med_xh = med_x.query(\"Usage == 'Human'\").reset_index()\n",
    "#ax = sns.area(med_xh, x=\"Datum\", y=\"N\", hue=\"Availability\", marker=\"o\")\n",
    "#ax = med_xh.pivot(index=\"Datum\", columns=\"Availability\", values=\"N\").resample(\"D\").plot.bar(stacked=True)\n",
    "#cov.set_date_opts(ax)\n",
    "#ax.set_ylim(bottom=0)\n",
    "fig, ax = plt.subplots()\n",
    "ax.set_axisbelow(False)\n",
    "#ax.plot(medshort[\"NLimitedMeds\"], marker=\"o\", color=\"grey\",\n",
    "#        label=\"Anzahl Einträge insgesamt, inkl. Veterinär: \" + str(medshort[\"NLimitedMeds\"].iloc[-1]), zorder=1)\n",
    "pltr = cov.StackBarPlotter(\n",
    "    ax, pd.date_range(start=med_xh[\"Datum\"].min(), end=med_xh[\"Datum\"].max(), freq=\"1D\"),\n",
    "    lw=0, width=1)\n",
    "ax.set_prop_cycle(color=sns.color_palette(\"plasma\", n_colors=med_x[\"Avail_c\"].nunique()))\n",
    "for avail, avail_d in med_xh.groupby(\"Availability\", sort=False):\n",
    "    #display(avail_d)\n",
    "    pltr(avail_d.set_index(\"Datum\")[\"N\"].resample(\"1D\").interpolate(limit=1).to_numpy(),\n",
    "         label=labelavail(avail) + \": \" + str(avail_d[\"N\"].iloc[-1]))\n",
    "    \n",
    "def decorate_medshort(ax, titley, supy, extralabel=\"\"):\n",
    "    ax.figure.suptitle(\"Medikamentenmangel in Österreich\", y=supy)\n",
    "    cov.set_date_opts(ax, showyear=True)\n",
    "    ax.axvline(pd.to_datetime(\"2023-06-23T12:00:00\"), color=\"k\", ls=\":\",\n",
    "           label=\"Umstellung eigener Datensammlung von xlsx auf xml\")\n",
    "    ax.set_title(\n",
    "    \"Darstellung: @zeitferne | Daten: medicineshortage.basg.gv.at/vertriebseinschraenkungen, bis \"\n",
    "    + med_xh.iloc[-1][\"Datum\"].strftime(\"%d.%m.%Y\")\n",
    "   # + \"\\nVerschiedene Packungsgrößen (nicht Dosisstärken) möglichst als gleiches Medikament gezählt\"\n",
    "    + extralabel,\n",
    "    y=titley)\n",
    "    ax.set_ylabel(\"Anzahl Human-Medikamente\")\n",
    "#ax.figure.autofmt_xdate()\n",
    "decorate_medshort(ax, 1.05, 1.01, \" | 1-tägige Lücken interpoliert\")\n",
    "ax.legend(loc=\"lower left\", title=\"Anzahl Human-Medikamente je Kategorie\")\n",
    "#med_xh\n",
    "\n",
    "if False:\n",
    "    ax.text(\n",
    "        0.5, 1.01,\n",
    "        \"Falls ein Medikament in allen beschränkten Dosisstärken in allen Packungsgrößen beschränkt ist, \"\n",
    "        \"aber eine andere Dosisstärke uneingeschränkt verfügbar wäre,\\n\"\n",
    "        \"wird stattdessen wegen Limitierungen in der Daten-Analyse fälschlicherweise \"\n",
    "        \"die stärkere Beschränkung angegeben.\",\n",
    "        fontsize=\"x-small\",\n",
    "        ha=\"center\",\n",
    "        transform=ax.transAxes)\n",
    "display(cov.filterlatest(med_xh))\n",
    "display(cov.filterlatest(med_xh)[\"N\"].sum())\n",
    "#display(med_xh[med_xh[\"Datum\"] == med_xh[\"Datum\"].min()])"
   ]
  },
  {
   "cell_type": "code",
   "execution_count": null,
   "id": "e5d95fd1",
   "metadata": {},
   "outputs": [],
   "source": [
    "azr = collectshortage.load_azr()\n",
    "sx = collectshortage.load_veasp_xml(\n",
    "    util.DATAROOT / \"basg-medicineshortage/VertriebseinschraenkungenASP_latest.xml\", azr)"
   ]
  },
  {
   "cell_type": "code",
   "execution_count": null,
   "id": "cb2349ef",
   "metadata": {},
   "outputs": [],
   "source": [
    "#fig, axs = plt.subplots(ncols=2, sharey=True, gridspec_kw={'width_ratios':[2,1])\n",
    "fig, ax = plt.subplots(figsize=(5, 5))\n",
    "sx0 = sx.query(\"Status != 'verfügbar'\").copy()\n",
    "sx0[\"Grund\"].fillna(\"?\", inplace=True)\n",
    "ax = sx0.value_counts(\"Grund\", ascending=True, dropna=False).plot.barh()\n",
    "ax.bar_label(ax.containers[0])\n",
    "fig = ax.figure\n",
    "fig.suptitle(\"Ans BASG gemeldeter Grund für Mangel (alle Verfügbarkeits-Kategorien)\", y=0.93, x=0);\n",
    "#ax = sx.query(\"Status == 'nicht verfügbar'\").value_counts(\"Grund\", ascending=True).plot.barh(ax=axs[1])\n",
    "#ax.bar_label(ax.containers[0])"
   ]
  },
  {
   "cell_type": "code",
   "execution_count": null,
   "id": "4c3b8c5d",
   "metadata": {},
   "outputs": [],
   "source": [
    "fig, ax = plt.subplots(figsize=(5, 5))\n",
    "ax = sx0.query(\"Status == 'nicht verfügbar'\").value_counts(\"Grund\", ascending=True, dropna=False).plot.barh()\n",
    "ax.bar_label(ax.containers[0])\n",
    "fig = ax.figure\n",
    "fig.suptitle(\"Ans BASG gemeldeter Grund für Mangel (nur \\\"nicht verfügbar\\\")\", y=0.93, x=0);"
   ]
  },
  {
   "cell_type": "code",
   "execution_count": null,
   "id": "9472dcf9",
   "metadata": {},
   "outputs": [],
   "source": [
    "fig, ax = plt.subplots(figsize=(5, 8))\n",
    "query = \"Grund == 'Erhöhter Mehrbedarf'\"\n",
    "fig.suptitle(query + \"\\nje Wirkstoff (Mehrfachzählung bei mehreren Wirkstoffen, nur >1)\",\n",
    "            x=0)\n",
    "(sx\n",
    " .query(query)\n",
    " .explode(\"Wirkstoffe\")\n",
    " .value_counts(\"Wirkstoffe\", ascending=True, dropna=False)\n",
    " .where(lambda x: x > 1)\n",
    " .dropna()\n",
    " .plot.barh());"
   ]
  },
  {
   "cell_type": "code",
   "execution_count": null,
   "id": "a4eb3110",
   "metadata": {},
   "outputs": [],
   "source": [
    "fig, ax = plt.subplots(figsize=(5, 8))\n",
    "query = \"Grund == 'Erhöhter Mehrbedarf' and Status == 'nicht verfügbar'\"\n",
    "fig.suptitle(query + \"\\nje Wirkstoff (Mehrfachzählung bei mehreren Wirkstoffen)\",\n",
    "            x=0)\n",
    "(sx\n",
    " .query(query)\n",
    " .explode(\"Wirkstoffe\")\n",
    " .value_counts(\"Wirkstoffe\", ascending=True, dropna=False)\n",
    " .plot.barh())"
   ]
  },
  {
   "cell_type": "code",
   "execution_count": null,
   "id": "e4895556",
   "metadata": {},
   "outputs": [],
   "source": [
    "sx0 = sx.copy()\n",
    "sx0[\"Wirkstoffe\"] = sx0[\"Wirkstoffe\"].str.join(\", \")\n",
    "sx0.to_csv(util.COLLECTROOT / \"medshort/VertriebseinschraenkungenASP_agg.csv\", sep=\";\", encoding=\"utf-8-sig\", index=False)"
   ]
  },
  {
   "cell_type": "code",
   "execution_count": null,
   "id": "5b6a5446",
   "metadata": {
    "ExecuteTime": {
     "end_time": "2023-07-17T08:22:59.889021Z",
     "start_time": "2023-07-17T08:22:59.190488Z"
    }
   },
   "outputs": [],
   "source": [
    "pdata = med_xh.copy()\n",
    "med_xh[\"Availability\"] = labelavail(med_xh[\"Availability\"])\n",
    "ax = sns.lineplot(med_xh, x=\"Datum\", y=\"N\", hue=\"Availability\")\n",
    "ax.get_legend().remove()\n",
    "decorate_medshort(ax, supy=1.065, titley=1.14)\n",
    "fig = ax.figure\n",
    "fig.legend(*cov.sortedlabels(ax, med_xh, \"N\", \"Availability\", fmtval=lambda v: f\"{v:.0f}\"),\n",
    "           frameon=False, ncol=2, loc=\"upper center\", bbox_to_anchor=(0.5, 1))\n",
    "ax.set_ylim(bottom=0);"
   ]
  },
  {
   "cell_type": "markdown",
   "id": "648b0f65-a87f-419c-8c99-69bf81735a48",
   "metadata": {},
   "source": [
    "# SARS-CoV-2-Abwassermonitoring\n",
    "\n",
    "* Daten von: hydro-IT GmbH, Bundesministerium für Soziales, Gesundheit, Pflege und Konsumentenschutz (BMSGPK)\n",
    "* Daten-URL: <https://abwassermonitoring.at/dashboard/>\n",
    "* Daten-Aktualisierung: Mehrmals wöchentlich, üblicherweise täglich von Dienstag bis inkl. Samstag\n",
    "  (Dienstags meist nur minimale Korrekturen)"
   ]
  },
  {
   "cell_type": "code",
   "execution_count": null,
   "id": "585d8de7-7124-4865-960e-76dd9e3db7f9",
   "metadata": {
    "ExecuteTime": {
     "end_time": "2023-07-16T20:39:26.448771Z",
     "start_time": "2023-07-16T20:39:23.927045Z"
    }
   },
   "outputs": [],
   "source": [
    "blverlauf = covdata.load_ww_blverlauf()\n",
    "blvfull = (\n",
    "        blverlauf[blverlauf[\"Datum\"] >= pd.to_datetime(\"2022-09-01\")])\n",
    "abwfrom = blverlauf[\"FileDate\"].min()\n",
    "blverlauf_last = blverlauf[blverlauf[\"FileDate\"] == blverlauf[\"FileDate\"].max()]\n",
    "blv1 = covdata.first_filedate(blvfull, [\"Bundesland\"])\n",
    "ABW_TINFO = (\n",
    "    f\"Darstellung: @zeitferne | Daten: abwassermonitoring.at/dashboard letzte Änderung\"\n",
    "    f\" {blverlauf_last.iloc[-1]['FileDate'].tz_localize('UTC').tz_convert('Europe/Vienna').strftime('%x %H:%M')}\")"
   ]
  },
  {
   "cell_type": "code",
   "execution_count": null,
   "id": "6121cab8-653f-4887-903b-439ab2a418d5",
   "metadata": {
    "ExecuteTime": {
     "end_time": "2023-07-16T20:55:10.238796Z",
     "start_time": "2023-07-16T20:55:10.230399Z"
    }
   },
   "outputs": [],
   "source": [
    "if False:\n",
    "    pdata = blverlauf_last#.query(\"Datum >= '2022-05-15'\")\n",
    "    ax = sns.lineplot(data=pdata, x=\"Datum\", y=\"coverage\", hue=\"Bundesland\", hue_order=cov.SHORTNAME_BY_BUNDESLAND.keys())\n",
    "    cov.set_percent_opts(ax)\n",
    "    ax.legend(*cov.sortedlabels(ax, pdata, \"coverage\", fmtval=lambda v: f\"{v:.0%}\"),\n",
    "              ncol=2, fontsize=\"x-small\", loc=\"upper left\")\n",
    "    ax.figure.suptitle(\"COVID-Abwassermonitoring-Abdeckung\")\n",
    "    ax.set_title(ABW_TINFO)\n",
    "    ax.set_ylim(bottom=0)\n",
    "    cov.set_date_opts(ax)\n",
    "    cov.labelend2(ax, pdata, \"coverage\")"
   ]
  },
  {
   "cell_type": "code",
   "execution_count": null,
   "id": "f5211842-1ab2-4b1b-8750-f59dba6c7eed",
   "metadata": {
    "ExecuteTime": {
     "end_time": "2023-07-16T20:55:13.733900Z",
     "start_time": "2023-07-16T20:55:10.242808Z"
    }
   },
   "outputs": [],
   "source": [
    "for selbl in (\"Österreich\", \"Wien\"): #blverlauf[\"Bundesland\"].unique():\n",
    "#selbl=\"Österreich\"\n",
    "    pdata = (blverlauf\n",
    "        [blverlauf[\"Datum\"] >= pd.to_datetime(\"2023-04-01\")]\n",
    "             .query(f\"Bundesland == '{selbl}'\")).copy()\n",
    "    bv1i = blv1.xs(selbl, level=\"Bundesland\").reset_index()[[\"FileDate\", \"Datum\"]]\n",
    "    pdi = pdata.reset_index().merge(bv1i, how=\"inner\").set_index('index')\n",
    "    pdata[\"sz\"] = False\n",
    "    pdata.loc[pdi.index, \"sz\"] = True\n",
    "    plt.figure()\n",
    "    ax = sns.lineplot(data=pdata,\n",
    "                      palette=\"plasma_r\",\n",
    "                      x=\"Datum\", y=\"y\", mew=0, hue=\"FileDate\",\n",
    "                      legend=False,\n",
    "                      lw=0.7,\n",
    "                      alpha=0.7\n",
    "                     )\n",
    "    ax = sns.lineplot(data=pdata.where(pdata[\"sz\"]),\n",
    "                      palette=\"plasma_r\",\n",
    "                      x=\"Datum\", y=\"y\", mew=0, hue=\"FileDate\",\n",
    "                      legend=False, lw=2, marker=\".\",\n",
    "                     )\n",
    "    cov.set_date_opts(ax, pdata[\"Datum\"])\n",
    "    ax.set_xlim(left=pdata[\"Datum\"].min())\n",
    "    ax.set_ylabel(\"Genkopien pro Tag / EW * 10⁶\")\n",
    "    ax.figure.suptitle(selbl + \": SARS-CoV-2 im Abwasser, verschiedene Datenstände (logarithmisch)\")\n",
    "    ax.set_title(ABW_TINFO + \", Daten bis: \" + pdata.iloc[-1][\"Datum\"].strftime(\"%x\"))\n",
    "    cov.set_logscale(ax)\n",
    "    #ax.yaxis.set_major_locator(matplotlib.ticker.AutoLocator())\n",
    "    #ax.set_ylim(bottom=0)\n"
   ]
  },
  {
   "cell_type": "code",
   "execution_count": null,
   "id": "c83300ac-b5a5-4ed7-b7cb-16f03f1b4f2f",
   "metadata": {
    "ExecuteTime": {
     "end_time": "2023-07-16T20:58:16.474231Z",
     "start_time": "2023-07-16T20:58:11.348496Z"
    }
   },
   "outputs": [],
   "source": [
    "from itertools import pairwise\n",
    "blvat = blverlauf.query(\"Bundesland == 'Österreich'\").copy()\n",
    "assert len(blvat) > 0\n",
    "grp = blvat.groupby(\"FileDate\")\n",
    "samevals = [False] + [len(fd1) == len(fd2) and (fd1.to_numpy() == fd2.to_numpy()).all()\n",
    " for (_, fd1), (_, fd2) in pairwise(grp[\"y\"])]\n",
    "samevals = pd.Series(samevals, index=grp.indices, dtype=bool, name=\"same\")\n",
    "blvat = blvat.merge(samevals, left_on=\"FileDate\", right_index=True)\n",
    "ax = sns.lineplot(data=blvat[~blvat[\"same\"]],\n",
    "                      palette=\"cet_glasbey_dark\",\n",
    "                      x=\"Datum\", y=\"y\", mew=0, hue=\"FileDate\",\n",
    "                      legend=False, hue_norm=matplotlib.colors.Normalize())\n",
    "fig = ax.figure\n",
    "fig.suptitle(\"Abwasser: Alle Datenstände Österreich\")"
   ]
  },
  {
   "cell_type": "code",
   "execution_count": null,
   "id": "1ad3cc13-3609-4051-aa38-21844f6d33ae",
   "metadata": {
    "ExecuteTime": {
     "end_time": "2023-07-16T20:58:58.784454Z",
     "start_time": "2023-07-16T20:58:55.502291Z"
    }
   },
   "outputs": [],
   "source": [
    "def draw_bl_ww_range(selbl, ax, logscale=True, fromdate=None, showcases=False):\n",
    "    blvfull_bl = blvfull[blvfull[\"Bundesland\"] == selbl]\n",
    "    if fromdate:\n",
    "        blvfull_bl = blvfull_bl[blvfull_bl[\"Datum\"] >= fromdate]\n",
    "    blvaext = (\n",
    "        blvfull_bl\n",
    "        .groupby([\"Datum\", \"Bundesland\"])\n",
    "        .agg({\"y\": [\"min\", \"max\", \"last\", \"first\"], \"FileDate\": [\"first\", \"last\"]})\n",
    "        .xs(selbl, level=\"Bundesland\"))\n",
    "    ##fig, ax = plt.subplots()\n",
    "    if logscale:\n",
    "        cov.set_logscale(ax)\n",
    "    ax.fill_between(blvaext.index, blvaext[(\"y\", \"min\")], blvaext[(\"y\", \"max\")], alpha=0.3,\n",
    "                    label=\"Minimum‒Maximum\")\n",
    "    ylast = blvaext[blvaext[(\"FileDate\", \"last\")] == blverlauf[\"FileDate\"].max()][(\"y\", \"last\")]\n",
    "    ax.plot(\n",
    "        ylast,\n",
    "        color=\"k\", label=\"Letzter Stand\")\n",
    "    ax.plot(blvfull_bl[blvfull_bl[\"FileDate\"] == blvfull_bl[\"FileDate\"].unique()[-2]].set_index(\"Datum\")[\"y\"],\n",
    "            ls=\"--\", zorder=5, alpha=0.8, lw=0.7, color=\"k\", label=\"Vorheriger Stand (falls abweichend)\")\n",
    "    \n",
    "    #display(blvaext)\n",
    "    first = True\n",
    "    for _, values in blvaext.groupby((\"FileDate\", \"first\")):\n",
    "        ax.plot(values[(\"y\", \"first\")],\n",
    "                marker=\".\" if len(values) <= 1 else None,\n",
    "                #markersize=,\n",
    "                mew=0,\n",
    "                color=\"C0\",\n",
    "                label=\"Erstmeldung\" if first else None,\n",
    "                lw=1.8\n",
    "               )\n",
    "        first = False\n",
    "    ax.plot(blvaext[(\"y\", \"first\")], color=\"C0\", lw=0.8)\n",
    "    ax.set_facecolor(\"none\")\n",
    "    ##cov.set_date_opts(ax, blvaext.index.get_level_values(\"Datum\"))\n",
    "    ##ax.set_xlim(left=blvaext.index.get_level_values(\"Datum\").min())\n",
    "    ##ax.set_ylabel(\"Genkopien pro Tag / EW * 10⁶\")\n",
    "    ##ax.set_title(ABW_TINFO + \", Daten bis \" + blvaext.index[-1].strftime(\"%a %x\"), y=1.07)\n",
    "    ##ax.set_xlim(*ax.get_xlim())\n",
    "    if showcases:\n",
    "        ax2 = ax.twinx()\n",
    "        ax2.set_zorder(-3)\n",
    "        if logscale:\n",
    "            cov.set_logscale(ax2)\n",
    "        inz = fs[(fs[\"Bundesland\"] == selbl) & (\n",
    "            fs[\"Datum\"] >= blvaext.index[0])].set_index(\"Datum\")[\"inz\"]\n",
    "        inzmax = inz.iloc[:90].max()\n",
    "        ymax = ylast.iloc[:90].max()\n",
    "        inzpery = inzmax / ymax\n",
    "        ax2.plot(inz, color=\"C1\",\n",
    "            label=\"7-Tage-Inzidenz (rechts)\" + AGES_STAMP)\n",
    "        ax2.grid(False)\n",
    "        def llim(x, xb): return x * 0.9 if logscale else x - xb\n",
    "        def ulim(x, xb): return x * 1.1 if logscale else x + xb\n",
    "        inzb = abs(ylast.min() - ylast.max()) * inzpery * 0.15\n",
    "        \n",
    "        if not logscale:\n",
    "            ax2.set_ylim(bottom=0)\n",
    "            ax.set_ylim(bottom=0)\n",
    "        \n",
    "        inzlims = ax2.get_ylim()\n",
    "        ylims = ax.get_ylim()\n",
    "        #print(selbl, inzpery, inzlims, ylims)\n",
    "        inzlim_r = (min(ylims[0] * inzpery, inzlims[0]), max(ylims[1] * inzpery, inzlims[1]))\n",
    "        ylim_r = (min(inzlim_r[0] / inzpery, ylims[0]), max(inzlim_r[1] / inzpery, ylims[1]))\n",
    "        inzlim_r = (min(ylim_r[0] * inzpery, inzlim_r[0]), max(ylim_r[1] * inzpery, inzlim_r[1]))\n",
    "        ax.set_ylim(*ylim_r)\n",
    "        ax2.set_ylim(*inzlim_r)\n",
    "        \n",
    "        if False:\n",
    "            ax2.set_ylim(\n",
    "                min(llim(blvaext[(\"y\", \"min\")].min() * inzpery, inzb), ax2.get_ylim()[0]),\n",
    "                max(ulim(blvaext[(\"y\", \"max\")].max() * inzpery, inzb), ax2.get_ylim()[1]),\n",
    "            )\n",
    "            yb = abs(inz.min() - inz.max()) / inzpery * 0.15\n",
    "            ax.set_ylim(\n",
    "                min(llim(inz.min() / inzpery, yb), ax.get_ylim()[0]),\n",
    "                max(ulim(inz.max() / inzpery, yb), ax.get_ylim()[1]),\n",
    "            )\n",
    "    else:\n",
    "        ax2 = None\n",
    "      \n",
    "        \n",
    "        #ax2.set_ylim(bottom=0)\n",
    "        #ax2.set_ylabel(\"Hospitalisierte CoV-PatientInnen\")\n",
    "    ##fig.legend(ncol=4, frameon=False, loc=\"upper center\", bbox_to_anchor=(0.5, 0.95))\n",
    "    #break\n",
    "    #ax.set_xlim(\n",
    "    #    left=fromdate,\n",
    "    #    right=maxdate + max(2, timedelta(ndays * 0.05)))\n",
    "    return ax2, blvaext\n",
    "\n",
    "def draw_each_bl_ww(logscale=True, ndays=None):\n",
    "    maxdate = blverlauf[\"Datum\"].max()\n",
    "    fromdate =  maxdate - timedelta(ndays) if ndays is not None else None\n",
    "    for selbl in blverlauf[\"Bundesland\"].unique(): #(\"Österreich\", \"Wien\", \"Oberösterreich\"): \n",
    "        fig, ax = plt.subplots()\n",
    "        ax2, blvaext = draw_bl_ww_range(\n",
    "            selbl, ax, logscale=logscale, fromdate=fromdate)\n",
    "        cov.set_date_opts(ax, week_always=True)\n",
    "        ax.set_ylabel(\"Genkopien pro Tag / EW * 10⁶\")\n",
    "        if ax2:\n",
    "            ax2.set_ylabel(\"Fälle pro Woche / 100.000 EW\")\n",
    "        ax.set_title(ABW_TINFO + \", Daten bis \" + blvaext.index[-1].strftime(\"%a %x\"), y=1.09)\n",
    "        #ax.set_xlim(*ax.get_xlim())\n",
    "        fig.legend(ncol=3, frameon=False, loc=\"upper center\", bbox_to_anchor=(0.5, 0.97))\n",
    "        if logscale:\n",
    "            fig.suptitle(selbl + \": SARS-CoV-2 im Abwasser, verschiedene Datenstände, logarithmische Skala\", y=1.03)\n",
    "        else:\n",
    "            fig.suptitle(selbl + \": SARS-CoV-2 im Abwasser, verschiedene Datenstände\", y=1.03)\n",
    "        if ndays:\n",
    "            ax.set_xlim(\n",
    "                left=fromdate,\n",
    "                right=maxdate + max(2, timedelta(ndays * 0.05)))\n",
    "    #break\n",
    "\n",
    "def draw_all_bl_ww(logscale=True, ndays=None, inz='scalefull'):\n",
    "    sharey = not logscale\n",
    "    fig, axs = plt.subplots(figsize=(10, 12), nrows=5, ncols=2, sharex=True, sharey=sharey)\n",
    "    fig.subplots_adjust(wspace=0.3, hspace=0.17)\n",
    "    maxdate = blverlauf[\"Datum\"].max()\n",
    "    fromdate = maxdate - timedelta(ndays)\n",
    "    for selbl, ax in zip(list(cov.Bundesland.categories)[1:] + [\"Österreich\"], axs.flat): #(\"Österreich\", \"Wien\", \"Oberösterreich\"): \n",
    "        ax2, blvaext = draw_bl_ww_range(\n",
    "            selbl, ax, logscale=logscale, fromdate=fromdate if inz != 'scalefull' else None)\n",
    "        ax.set_title(selbl + \" bis \" + blvaext.index[-1].strftime(\"%a %x\"), y=0.96)\n",
    "        #ax.set_xlim(*ax.get_xlim())\n",
    "        if ax is axs.flat[0]:\n",
    "            fig.legend(ncol=3, frameon=False, loc=\"upper center\", bbox_to_anchor=(0.5, 0.97), title=ABW_TINFO)\n",
    "        if ax in axs[-1]:\n",
    "            if ndays:\n",
    "                ax.set_xlim(\n",
    "                    left=fromdate,\n",
    "                    right=maxdate + timedelta(ndays * 0.05))\n",
    "            cov.set_date_opts(ax, week_always=True, showday=False)\n",
    "            if ax is axs.flat[-1] and not logscale and sharey:\n",
    "                ax.set_ylim(bottom=0)\n",
    "\n",
    "\n",
    "        ax.grid(axis=\"x\", which=\"minor\", lw=0.5)\n",
    "        if ax in axs.T[0]:\n",
    "            ax.set_ylabel(\"Kopien/Tag/EW*10⁶\")\n",
    "        if ax2 and ax in axs.T[-1]:\n",
    "            ax2.set_ylabel(\"Fälle/Woche/EW*10⁵\")\n",
    "    seplabel = \"\" if sharey else \"separate \"\n",
    "    scalabel = \"Skala\" if sharey else \"Skalen\"\n",
    "    if logscale:\n",
    "        fig.suptitle(selbl + f\": SARS-CoV-2 im Abwasser, verschiedene Datenstände, {seplabel}logarithmische {scalabel}\", y=0.99)\n",
    "    else:\n",
    "        fig.suptitle(selbl + f\": SARS-CoV-2 im Abwasser, verschiedene Datenstände, {seplabel}{scalabel}\", y=0.99)\n",
    "\n",
    "    fig.autofmt_xdate()\n",
    "\n",
    "    #draw_all_bl_ww()\n",
    "draw_all_bl_ww(logscale=True, ndays=60, inz='scaledisplay')\n",
    "#draw_each_bl_ww(logscale=True, ndays=(blvfull[\"Datum\"].max() - pd.to_datetime(\"2023-02-15\")).days + 1)"
   ]
  },
  {
   "cell_type": "code",
   "execution_count": null,
   "id": "e2504432-7a83-47f8-a83e-4a9ba7679e1b",
   "metadata": {
    "ExecuteTime": {
     "end_time": "2023-07-16T20:58:59.714187Z",
     "start_time": "2023-07-16T20:58:58.787474Z"
    }
   },
   "outputs": [],
   "source": [
    "#display(blv1)\n",
    "def draw_blv1(blv1=blv1):\n",
    "    blv1 = blv1[blv1.index.get_level_values(\"Datum\") >= pd.to_datetime(\"2023-04-17\")]\n",
    "    ax = sns.lineplot(blv1[\"y\"].reset_index(), x=\"Datum\", y=\"y\", hue=\"Bundesland\", mew=0, marker=\".\")\n",
    "    if True:\n",
    "        cov.set_logscale(ax)\n",
    "        ax.set_ylim(bottom=3, top=100)\n",
    "    else:\n",
    "        ax.set_ylim(bottom=0)\n",
    "    ax.get_legend().remove()\n",
    "    cov.set_date_opts(ax, blv1.index.get_level_values(\"Datum\"), week_always=True)\n",
    "    ax.set_ylabel(\"Genkopien pro Tag / EW * 10⁶\")\n",
    "    fig = ax.figure\n",
    "\n",
    "    has_erstmeldung = blv1[\"FileDate\"].max() == blvfull[\"FileDate\"].max()\n",
    "    fig.suptitle(\n",
    "        \"Österreich : SARS-CoV-2 im Abwasser, nur Erstmeldungen, logarithmische Skala\",\n",
    "        y=1.04 if has_erstmeldung else 1.06)\n",
    "    fig.legend(\n",
    "        *cov.sortedlabels(ax, blv1.reset_index(), \"y\", fmtval=lambda v: f\"{v:.0f}\"),\n",
    "        ncol=5, frameon=False, loc=\"upper center\", bbox_to_anchor=(0.5, 0.965))\n",
    "    ax.set_title(\n",
    "        ABW_TINFO +\n",
    "        (\"\" if has_erstmeldung else\n",
    "         \"\\nLetzte neue Erstmeldung \" + blv1[\"FileDate\"].max().strftime(\"%a %d.%m.%Y %H:%M\")) +\n",
    "        \", Daten bis \" + blv1.index.get_level_values(\"Datum\").max().strftime(\"%a %x\"),\n",
    "        y=1.09)\n",
    "    cov.labelend2(ax, blv1.reset_index(), ycol=\"y\", colorize=sns.color_palette(), ends=(True, True))\n",
    "    #print(blv1[\"FileDate\"].max())\n",
    "draw_blv1()"
   ]
  },
  {
   "cell_type": "markdown",
   "id": "5a04f45a-8b1a-40a4-bebc-8e26f67ddffd",
   "metadata": {},
   "source": [
    "# Krankenstand\n",
    "\n",
    "* Daten von: Österreichischer Dachverband der Sozialversicherungsträger\n",
    "* Daten-URL: <https://www.sozialversicherung.at/cdscontent/?contentid=10007.853001&portal=svportal>\n",
    "* Daten-Aktualisierung: Monatlich, ca. ab 25.\n",
    "* [Mehr Daten-Infos](https://github.com/zeitferne/covidat-data/blob/main/docs/sozialversicherung-monatsberichte.md)"
   ]
  },
  {
   "cell_type": "code",
   "execution_count": null,
   "id": "a41c628d",
   "metadata": {
    "ExecuteTime": {
     "end_time": "2023-07-17T08:22:49.244018Z",
     "start_time": "2023-07-17T08:22:49.029052Z"
    }
   },
   "outputs": [],
   "source": [
    "ks = pd.read_csv(util.COLLECTROOT / \"sozialversicherung-monatsberichte/ks_all.csv\",\n",
    "                 sep=\";\", encoding=\"utf-8\",\n",
    "                 dtype={\"date\": pd.PeriodDtype(\"M\")},\n",
    "                 index_col=[\"date\", \"insurer\", \"employment\"])\n",
    "\n",
    "ks[\"jun_year\"] = ks.index.get_level_values(\"date\").asfreq(\"A-JUN\").year - 1\n",
    "ks[\"jun_year_l\"] = ks[\"jun_year\"].astype(str) + \"/\" + ((ks[\"jun_year\"] + 1) % 100).astype(str) \n",
    "ks[\"jun_month\"] = (ks.index.get_level_values(\"date\").month - 1 + (12 - 6)) % 12 + 1\n",
    "ks[\"cases_n\"] = ks[\"cases\"] / ks.index.get_level_values(\"date\").days_in_month * 30\n",
    "ks[\"m_start\"] = ks.index.get_level_values(\"date\").start_time\n",
    "\n",
    "#ks[\"qyear\"] = ks[\"qdate\"].dt.qyear\n",
    "ks = cov.add_sum_rows(ks, \"employment\", \"Insgesamt\", {\n",
    "    \"insured\": \"sum\", \"cases\": \"sum\", \"cases_n\": \"sum\", \"active_end\": \"sum\",\n",
    "    \"jun_year\": \"first\", \"jun_year_l\": \"first\", \"jun_month\": \"first\", \"m_start\": \"first\"})\n",
    "\n",
    "ks[\"active_end_pp\"] = ks[\"active_end\"] / ks[\"insured\"]\n",
    "ks[\"cases_pp_n30\"] = ks[\"cases_n\"] / ks[\"insured\"]\n",
    "ks[\"cases_pp_raw\"] = ks[\"cases\"] / ks[\"insured\"]\n",
    "#ks_s[\"cases_pp_n30\"] = ks_s[\"cases_n\"] / ks_s[\"insured\"]\n",
    "#ks_s[\"active_end_pp\"] = ks_s[\"active_end\"] / ks_s[\"insured\"]\n",
    "#ks[\"m_start\"] = ks0[\"date\"].dt.start_time\n",
    "#display(ks_s.query(\"insurer == 'Insgesamt' and employment != 'angest'\")[[\"jun_year\", \"month\"]])"
   ]
  },
  {
   "cell_type": "code",
   "execution_count": null,
   "id": "37811c99",
   "metadata": {
    "ExecuteTime": {
     "end_time": "2023-07-17T08:22:52.320206Z",
     "start_time": "2023-07-17T08:22:49.247369Z"
    }
   },
   "outputs": [],
   "source": [
    "def plt_ks_yoy(y, bl, empl=\"Insgesamt\"):\n",
    "    whatlabel = (\n",
    "        \"Krankenstandfälle/Monat (30-Tage-normiert)\" if y == \"cases_pp_n30\" else\n",
    "        \"Laufende Krankenstände am Monatsende\" if y == \"active_end_pp\" else None)\n",
    "    empllabel = \"\" if empl == \"Insgesamt\" else f\" (nur {empl})\"\n",
    "    fig, ax = plt.subplots()\n",
    "    #display(ks.dtypes)\n",
    "    #ax.set_xlabels([\"])\n",
    "    blq = \"Insgesamt\" if bl == 'Österreich' else bl\n",
    "    pdata = ks.query(f\"insurer == '{blq}' and employment == '{empl}'\").sort_index().reset_index()\n",
    "    pal = sns.color_palette(\"tab10\", n_colors=pdata[\"jun_year_l\"].nunique())[::-1]\n",
    "    pltargs = dict(x=\"jun_month\", y=y, hue=\"jun_year_l\", palette=pal, sort=False, markersize=9)\n",
    "    sns.lineplot(pdata,\n",
    "                  #lw=3,\n",
    "                #size=pdata[\"jun_year_l\"].map(lambda y: 3 if y == pdata.iloc[0][\"jun_year_l\"] else 2),\n",
    "                #sizes=(2, 4),\n",
    "                marker=\"o\" if y != \"active_end_pp\" else None,\n",
    "                lw=3, **pltargs)\n",
    "    if y == \"active_end_pp\":\n",
    "        wday = pdata[\"date\"].dt.end_time.dt.dayofweek\n",
    "        is_weekend = wday > 4\n",
    "        is_monday = wday == 0\n",
    "        pd0 = pdata.copy()\n",
    "        pd0.loc[is_monday | is_weekend, y] = np.nan\n",
    "        sns.lineplot(\n",
    "            pd0,\n",
    "            marker=\"o\",\n",
    "            lw=0, **pltargs, legend=False)\n",
    "        pd0 = pdata.copy()\n",
    "        pd0.loc[~is_monday, y] = np.nan\n",
    "        sns.lineplot(\n",
    "            pd0,\n",
    "            marker=\"X\",\n",
    "            lw=0, **pltargs, legend=False, mew=0)\n",
    "    \n",
    "    cov.set_percent_opts(ax)\n",
    "    ax.axvline(12 - 6 + 1 - 0.5, color=\"k\", ls=\"--\", lw=1, zorder=1)\n",
    "    ax.set_xticks(np.arange(1, 12+1))\n",
    "    ax.set_xticklabels([\"Jul\", \"Aug\", \"Sep\", \"Okt\", \"Nov\", \"Dez\", \"Jän\", \"Feb\", \"Mär\", \"Apr\", \"Mai\", \"Jun\"])\n",
    "    ax.set_ylim(bottom=0)\n",
    "    ax.set_xlabel(\"Monat\")\n",
    "    ax.legend(title=\"Jahr bzw. Saison\")\n",
    "    #ax.set_ylabel(\"Anteil der Versicherten (30-Tage-normiert)\")\n",
    "    ax.set_ylabel(\"Fälle/Versicherte\")\n",
    "    #fig.suptitle(\"Aktive Krankenstandfälle am Monatsende als Anteil der Versicherten\", y=0.93)\n",
    "    fig.suptitle(f\"{bl}{empllabel}: {whatlabel} als Anteil der Versicherten\", y=0.93)\n",
    "    kwargs = dict(ax=ax, mms=pdata, ycol=y, cats=\"jun_year\", x=\"jun_month\", colorize=pal)\n",
    "    cov.labelend2(**kwargs, shorten=lambda x: str((x + 1) % 100))\n",
    "    cov.labelend2(**kwargs, ends=(True, False), shorten=lambda x: \"17\" if x == 2016 else str(x % 100))\n",
    "    ax.yaxis.set_major_locator(matplotlib.ticker.MultipleLocator(0.02))\n",
    "    cov.stampit(fig, \"Monatsberichte des österr. Dachverband der Sozialversicherungsträger\")\n",
    "    ax.legend(ncol=3, title=\"Jahr bzw. Saison\")\n",
    "plt_ks_yoy(\"active_end_pp\", \"Österreich\")\n",
    "if False:\n",
    "    for bl in cov.BUNDESLAND_BY_ID.values():\n",
    "        plt_ks_yoy(\"cases_pp_n30\", bl)\n",
    "plt_ks_yoy(\"cases_pp_n30\", \"Österreich\", \"Insgesamt\")\n",
    "plt_ks_yoy(\"cases_pp_n30\", \"Österreich\", \"ArbeiterInnen\")\n",
    "plt_ks_yoy(\"cases_pp_n30\", \"Österreich\", \"Angestellte\")"
   ]
  },
  {
   "cell_type": "code",
   "execution_count": null,
   "id": "d738920d",
   "metadata": {
    "ExecuteTime": {
     "end_time": "2023-07-17T08:22:53.974248Z",
     "start_time": "2023-07-17T08:22:52.323205Z"
    }
   },
   "outputs": [],
   "source": [
    "def plt_ks_bl_all():\n",
    "    fig, ax = plt.subplots()\n",
    "    ks0 = ks.query(\"employment == 'Insgesamt'\").reset_index()#.query(\"employment == 'angest'\").reset_index()\n",
    "    sns.lineplot(ks0.query(\n",
    "        \"insurer in ('Vorarlberg', 'Tirol', 'Salzburg', 'Oberösterreich', 'Kärnten', 'Steiermark', 'Niederösterreich', 'Wien', 'Burgenland')\"\n",
    "    ), hue=\"insurer\",# style=\"employment\",\n",
    "                 x=\"m_start\", y=\"cases_pp_n30\", marker=\".\", mew=0)\n",
    "    cov.set_percent_opts(ax, decimals=1)\n",
    "    ax.xaxis.set_major_locator(matplotlib.dates.YearLocator())\n",
    "    ax.xaxis.set_minor_formatter(matplotlib.dates.DateFormatter(\"%b\"))\n",
    "    ax.xaxis.set_minor_locator(matplotlib.dates.MonthLocator([1, 4, 7, 10]))\n",
    "    ax.set_ylim(bottom=0)\n",
    "    \n",
    "    ax.grid(which=\"minor\", lw=0.3)\n",
    "    #fig.autofmt_xdate()\n",
    "    ax.tick_params(axis=\"x\", which=\"major\", pad=11)\n",
    "    #cov.set_logscale(ax)\n",
    "    ax.legend(ncol=2, loc=\"lower left\")\n",
    "    fig.suptitle(\"Krankenstandzugang/Monat (normiert auf 30 Tage) in % der Versicherten\")\n",
    "    ax.set_title(\"Arbeiter + Angestellte, je Versichernder ÖGK\")\n",
    "    ax.set_xlabel(\"Berichtsmonat\")\n",
    "    ax.set_ylabel(\"Fälle/Versicherte (30-Tage-normiert)\")\n",
    "plt_ks_bl_all()"
   ]
  },
  {
   "cell_type": "code",
   "execution_count": null,
   "id": "1eb68a06",
   "metadata": {
    "ExecuteTime": {
     "end_time": "2023-07-17T08:22:56.114258Z",
     "start_time": "2023-07-17T08:22:53.977260Z"
    }
   },
   "outputs": [],
   "source": [
    "def plt_emp_ks_all():\n",
    "    logscale = False\n",
    "    fig, ax = plt.subplots()\n",
    "    if logscale:\n",
    "        cov.set_logscale(ax)\n",
    "    fig.suptitle(\"Krankenstandzugang/Monat (normiert auf 30 Tage) in % der Versicherten\")\n",
    "    ax.set_title(\"Über alle im Bericht erfassten Träger, je Arbeitsverhältnis\")\n",
    "    \n",
    "    pdata = ks.query(\"insurer == 'Insgesamt'\").reset_index()\n",
    "    pargs = dict(x=\"m_start\", y=\"cases_pp_n30\", estimator=None, marker=\".\", mew=0, ax=ax)\n",
    "    ax = sns.lineplot(pdata.query(\"employment != 'Insgesamt'\"), hue=\"employment\", ls=\"--\", **pargs)\n",
    "    sns.lineplot(pdata.query(\"employment == 'Insgesamt'\"),\n",
    "                 lw=2, markersize=10, color=\"grey\", label=\"Insgesamt\", **pargs)\n",
    "    cov.set_percent_opts(ax, decimals=1)\n",
    "    ax.xaxis.set_major_locator(matplotlib.dates.YearLocator())\n",
    "    ax.xaxis.set_minor_formatter(matplotlib.dates.DateFormatter(\"%b\"))\n",
    "    ax.xaxis.set_minor_locator(matplotlib.dates.MonthLocator([1, 4, 7, 10]))\n",
    "    ax.grid(which=\"minor\", lw=0.3)\n",
    "    #fig.autofmt_xdate()\n",
    "    ax.tick_params(axis=\"x\", which=\"major\", pad=11)\n",
    "    if not logscale:\n",
    "        ax.set_ylim(bottom=0)\n",
    "    \n",
    "    ax.set_xlabel(\"Berichtsmonat\")\n",
    "    ax.set_ylabel(\"Fälle/Versicherte (30-Tage-normiert)\")\n",
    "    \n",
    "    ax.legend()\n",
    "plt_emp_ks_all()"
   ]
  },
  {
   "cell_type": "markdown",
   "id": "786b95ac-f321-45fd-b513-f39f2e5ab925",
   "metadata": {},
   "source": [
    "# Influenza und Atemwegserkrankungen\n",
    "\n",
    "* Daten von: Agentur für Gesundheit und Ernährungssicherheit (AGES), Zentrum für Virologie der Medizinischen Universität Wien,  Diagnostisches Influenzanetzwerk Österreich (DINÖ)\n",
    "* Daten-URLs:\n",
    "  * <https://www.ages.at/mensch/krankheit/krankheitserreger-von-a-bis-z/grippe>\n",
    "  * <https://www.virologie.meduniwien.ac.at/wissenschaft-forschung/virus-epidemiologie/influenza-projekt-diagnostisches-influenzanetzwerk-oesterreich-dinoe/>\n",
    "* Daten-Aktualisierung: Wöchentlich; Daten werden nur ca. ab Kalenderwoche 40 (Anfang Oktober) bis Ende der Grippewelle oder max. ca. KW 20 (Mitte Mai) aktualisiert"
   ]
  },
  {
   "cell_type": "code",
   "execution_count": null,
   "id": "356a88aa",
   "metadata": {
    "ExecuteTime": {
     "end_time": "2023-07-17T08:23:00.644590Z",
     "start_time": "2023-07-17T08:22:59.911068Z"
    }
   },
   "outputs": [],
   "source": [
    "def onlyelem(xs):\n",
    "    xs = iter(xs)\n",
    "    v = next(xs)\n",
    "    try:\n",
    "        next(xs)\n",
    "    except StopIteration:\n",
    "        return v\n",
    "    raise ValueError(\"More than one element\")\n",
    "grippe = onlyelem(pd.read_html(\n",
    "    util.DATAROOT / \"ages-epi-misc/grippe_20230714_090503.html\",\n",
    "    match=\"Influenza A/H3N2 Fall\",\n",
    "    thousands=\".\",\n",
    "    decimal=\",\"))"
   ]
  },
  {
   "cell_type": "code",
   "execution_count": null,
   "id": "ef0f0c65",
   "metadata": {
    "ExecuteTime": {
     "end_time": "2023-07-17T08:23:01.330721Z",
     "start_time": "2023-07-17T08:23:00.648107Z"
    }
   },
   "outputs": [],
   "source": [
    "def plt_flu_posrate():\n",
    "    gfallcol = [c for c in grippe.columns if \" Fall\" in c]\n",
    "    grippe[\"Woche\"] = grippe[\"Woche\"].astype(str)\n",
    "    grippe.set_index(\"Woche\", inplace=True, verify_integrity=True)\n",
    "    npos = grippe[gfallcol].sum(axis=1)\n",
    "    ntest = (npos / grippe[\"Positiv-Rate (positive Proben/Untersuchte Proben)\"]).round()\n",
    "    ppos = grippe[gfallcol].div(ntest, axis=0)\n",
    "    #display(ntest)\n",
    "    #display(grippe[gfallcol])\n",
    "    ppos.rename(columns={c: '% ' + c.replace(\" Fall\", \"-positiv\") for c in ppos.columns}, inplace=True)\n",
    "    color = [f\"C{i}\" for i in range(len(ppos.columns))]\n",
    "    ax = ppos.plot(color=color)\n",
    "    ppos.where(lambda x: x != 0).plot(ax=ax, lw=0, marker=\"o\", markersize=10, alpha=0.8, color=color, legend=False)\n",
    "    fig = ax.figure\n",
    "    ax.set_ylim(bottom=0)\n",
    "    cov.set_percent_opts(ax)\n",
    "    ax.set_ylabel(\"Positivrate\")\n",
    "    fig.suptitle(\"Influenza in Österreich, Sentinel-Proben 2022/23 (AGES/DINÖ)\", y=0.93)\n",
    "plt_flu_posrate()"
   ]
  },
  {
   "cell_type": "code",
   "execution_count": null,
   "id": "b0bc498e",
   "metadata": {
    "ExecuteTime": {
     "end_time": "2023-07-17T08:23:02.370072Z",
     "start_time": "2023-07-17T08:23:01.333719Z"
    }
   },
   "outputs": [],
   "source": [
    "def plt_flu_posrate_and_cnt():\n",
    "    ax = grippe.plot(y=gfallcol, marker=\"o\", markersize=10, alpha=0.8)\n",
    "    cov.set_logscale(ax)\n",
    "    ax2 = ax.twinx()\n",
    "    grippe.plot(y=[c for c in grippe.columns if \"Positiv-Rate\" in c], ax=ax2, color=\"k\", marker=\"s\",\n",
    "               markersize=4)\n",
    "    ax2.grid(False)\n",
    "    ax2.get_legend().remove()\n",
    "    ax.get_legend().remove()\n",
    "    fig = ax.figure\n",
    "    fig.suptitle(\"Influenza in Österreich, Sentinel-Proben 2022/23 (AGES/DINÖ)\", y=1.05)\n",
    "    fig.legend(loc=\"upper center\", ncol=2, frameon=False, bbox_to_anchor=(0.5, 1))\n",
    "    ax.set_ylabel(\"Anzahl positiver Proben (log)\")\n",
    "    ax2.set_ylabel(\"Positivrate\")\n",
    "    cov.set_percent_opts(ax2)\n",
    "    ax.set_ylim(bottom=0.9)\n",
    "    ax2.set_ylim(bottom=0)\n",
    "plt_flu_posrate_and_cnt()"
   ]
  },
  {
   "cell_type": "code",
   "execution_count": null,
   "id": "528871ef",
   "metadata": {
    "ExecuteTime": {
     "end_time": "2023-07-17T08:23:02.835592Z",
     "start_time": "2023-07-17T08:23:02.373066Z"
    }
   },
   "outputs": [],
   "source": [
    "def plt_ntest():\n",
    "    (ntest).plot(marker=\"o\").set_ylim(0)\n",
    "    plt.gcf().suptitle(\"Anzahl Sentinel-Proben (positiv+negativ) / KW (geschätzt)\", y=0.93)\n",
    "plt_ntest()"
   ]
  }
 ],
 "metadata": {
  "kernelspec": {
   "display_name": "Python 3 (ipykernel)",
   "language": "python",
   "name": "python3"
  },
  "language_info": {
   "codemirror_mode": {
    "name": "ipython",
    "version": 3
   },
   "file_extension": ".py",
   "mimetype": "text/x-python",
   "name": "python",
   "nbconvert_exporter": "python",
   "pygments_lexer": "ipython3",
   "version": "3.11.4"
  }
 },
 "nbformat": 4,
 "nbformat_minor": 5
}
