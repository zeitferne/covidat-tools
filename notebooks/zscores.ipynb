{
 "cells": [
  {
   "cell_type": "code",
   "execution_count": null,
   "id": "3deb5702",
   "metadata": {
    "ExecuteTime": {
     "end_time": "2023-02-12T10:04:22.378044Z",
     "start_time": "2023-02-12T10:04:22.339105Z"
    }
   },
   "outputs": [],
   "source": [
    "import locale\n",
    "\n",
    "locale.setlocale(locale.LC_ALL, \"de_AT.UTF-8\");"
   ]
  },
  {
   "cell_type": "code",
   "execution_count": null,
   "id": "859eb386",
   "metadata": {
    "ExecuteTime": {
     "end_time": "2023-02-12T10:04:32.299798Z",
     "start_time": "2023-02-12T10:04:22.383059Z"
    }
   },
   "outputs": [],
   "source": [
    "%matplotlib inline\n",
    "%precision %.4f\n",
    "# %load_ext snakeviz\n",
    "import colorcet\n",
    "import pandas as pd\n",
    "from scipy import stats\n",
    "import matplotlib.pyplot as plt\n",
    "import matplotlib.dates\n",
    "import matplotlib.ticker\n",
    "import matplotlib.patches\n",
    "import matplotlib.colors\n",
    "import seaborn as sns\n",
    "from importlib import reload\n",
    "from itertools import count\n",
    "from datetime import date, datetime, timedelta\n",
    "from IPython.display import display, Markdown, HTML\n",
    "import textwrap\n",
    "from functools import partial\n",
    "from cycler import cycler\n",
    "from pathlib import Path\n",
    "\n",
    "from covidat import cov\n",
    "from covidat.util import DATAROOT\n",
    "\n",
    "pd.options.display.precision = 4\n",
    "\n",
    "cov = reload(cov)\n",
    "\n",
    "plt.rcParams['figure.figsize'] = (16 * 0.7, 9 * 0.7)\n",
    "plt.rcParams['figure.dpi'] = 200  # 80\n",
    "plt.rcParams['figure.facecolor'] = '#fff'\n",
    "sns.set_theme(style=\"whitegrid\")\n",
    "sns.set_palette('tab10')\n",
    "\n",
    "plt.rcParams['image.cmap'] = cov.un_cmap\n",
    "\n",
    "pd.options.display.max_rows = 120\n",
    "pd.options.display.min_rows = 40"
   ]
  },
  {
   "cell_type": "code",
   "execution_count": null,
   "id": "5e284c94",
   "metadata": {
    "ExecuteTime": {
     "end_time": "2023-02-12T10:04:32.321204Z",
     "start_time": "2023-02-12T10:04:32.310821Z"
    }
   },
   "outputs": [],
   "source": [
    "def stampit(fig):\n",
    "    cov.stampit(fig, \"EuroMOMO (euromomo.eu) 2022,2023\")"
   ]
  },
  {
   "cell_type": "code",
   "execution_count": null,
   "id": "308683be",
   "metadata": {
    "ExecuteTime": {
     "end_time": "2023-02-12T10:04:32.342850Z",
     "start_time": "2023-02-12T10:04:32.331226Z"
    }
   },
   "outputs": [],
   "source": [
    "Z_INDEX_COLS = [\"country\", \"group\", \"week\"]\n",
    "\n",
    "\n",
    "def collect_z():\n",
    "    all_fzs = []\n",
    "    for f in Path(DATAROOT / \"euromomo\").glob(\"*.csv\"):\n",
    "        fzs = pd.read_csv(f, encoding=\"utf-8\", sep=\";\")\n",
    "        if 'zscore' not in fzs.columns:\n",
    "            continue\n",
    "        # print(f, fzs.columns.to_list(), fzs.iloc[0].to_list())\n",
    "        if 'country' not in fzs.columns:\n",
    "            fzs.insert(0, 'country', 'ALL')\n",
    "        all_fzs.append(fzs)\n",
    "    all_fzs.sort(key=lambda fzs: fzs.iloc[-1][\"week\"])\n",
    "    # print(\" \".join(x.iloc[-1]['week'] for x in all_fzs))\n",
    "    combined = pd.concat(all_fzs)\n",
    "    combined.drop_duplicates(subset=[\"week\", \"country\", \"group\"], keep=\"last\", inplace=True, ignore_index=True)\n",
    "    return combined"
   ]
  },
  {
   "cell_type": "code",
   "execution_count": null,
   "id": "907d9271",
   "metadata": {
    "ExecuteTime": {
     "end_time": "2023-02-12T10:04:33.561267Z",
     "start_time": "2023-02-12T10:04:32.349865Z"
    }
   },
   "outputs": [],
   "source": [
    "zs = collect_z()  # pd.read_csv(\"zscores.csv\", encoding=\"utf-8\", sep=\";\")\n",
    "zs[\"week\"] = pd.to_datetime(zs[\"week\"] + \"-1\", format=\"%G-%V-%u\")\n",
    "zs[\"week\"].freq = \"W\"\n",
    "# zs = zs.loc[zs[\"week\"].max() - zs[\"week\"] < timedelta(500)]\n",
    "# zs = zs[zs[\"week\"] != zs[\"week\"].max()]\n",
    "# zs = zs[zs[\"week\"] != zs[\"week\"].max()]\n",
    "zs.set_index(Z_INDEX_COLS, inplace=True)\n",
    "zs.sort_index(inplace=True)\n",
    "zs = zs[\"zscore\"]"
   ]
  },
  {
   "cell_type": "code",
   "execution_count": null,
   "id": "fa7457e8",
   "metadata": {
    "ExecuteTime": {
     "end_time": "2023-02-12T10:04:33.593920Z",
     "start_time": "2023-02-12T10:04:33.565268Z"
    }
   },
   "outputs": [],
   "source": [
    "zs.index.get_level_values(\"group\").unique()"
   ]
  },
  {
   "cell_type": "code",
   "execution_count": null,
   "id": "0f0f4ff9",
   "metadata": {
    "ExecuteTime": {
     "end_time": "2023-02-12T10:04:33.605311Z",
     "start_time": "2023-02-12T10:04:33.597937Z"
    }
   },
   "outputs": [],
   "source": [
    "def grpname(grp):\n",
    "    return grp.replace(\"P\", \"+\").replace(\"to\", \"‒\")"
   ]
  },
  {
   "cell_type": "code",
   "execution_count": null,
   "id": "e7e10f6c",
   "metadata": {
    "ExecuteTime": {
     "end_time": "2023-02-12T10:04:39.149117Z",
     "start_time": "2023-02-12T10:04:33.610325Z"
    }
   },
   "outputs": [],
   "source": [
    "def draw_detail_ax(country, grp, ax, smallmode=False):\n",
    "    z0 = zs.xs(country)\n",
    "    if grp in z0.index:\n",
    "        z0 = z0.xs(grp)\n",
    "    else:\n",
    "        # z0 = z0.xs('Total') * np.nan\n",
    "        return\n",
    "    ax.plot(z0, zorder=1, lw=1)  # , label=\"Z-Score\")\n",
    "    ax.axhline(0, color=\"k\")\n",
    "    ax.plot(\n",
    "        z0.rolling(52, center=False).mean(), color=\"darkgrey\", ls=\"--\", label=\"52-Wochen-Schnitt\", zorder=6, alpha=0.85\n",
    "    )\n",
    "    is_unusual = z0.between(2, 4, inclusive=\"right\") | z0.between(-4, -2, inclusive=\"left\")\n",
    "    is_substantial = (z0 > 4) | (z0 < -4)\n",
    "    ax.plot(\n",
    "        z0.where(is_unusual),\n",
    "        marker=\".\",\n",
    "        color=\"C1\",\n",
    "        label=\"Außerhalb des Normalbereichs (>2)\",\n",
    "        markersize=2 if smallmode else 5,\n",
    "    )\n",
    "    ax.plot(z0.where(is_unusual | is_substantial), color=\"C1\")\n",
    "    ax.plot(\n",
    "        z0.where(is_substantial),\n",
    "        marker=\"s\",\n",
    "        color=\"r\",\n",
    "        label=\"Substantielle Abweichung (>4)\",\n",
    "        markersize=1 if smallmode else 3,\n",
    "    )\n",
    "    ax.axhspan(-2, 2, alpha=0.2, zorder=0)\n",
    "    ax.axhspan(-1, 1, alpha=0.2, zorder=0)\n",
    "    if z0.max() > 4:\n",
    "        ax.axhline(4, color=\"r\", ls=\":\", zorder=1.5)\n",
    "    if z0.min() < -4:\n",
    "        ax.axhline(-4, color=\"r\", ls=\":\", zorder=1.5)\n",
    "    fulldata_end = z0.index[-3] - timedelta(4)\n",
    "    ax.axvspan(matplotlib.dates.date2num(fulldata_end), ax.get_xlim()[1], color=\"yellow\", alpha=0.2)\n",
    "    ax.axvline(fulldata_end, color=\"grey\", alpha=0.5, ls=\":\")\n",
    "    return z0\n",
    "\n",
    "\n",
    "def draw_detail(country, grp):\n",
    "    fig, ax = plt.subplots()\n",
    "    z0 = draw_detail_ax(country, grp, ax)\n",
    "    endd = z0.index[-1].strftime(\"KW%V %G\")\n",
    "    ax.set_xlim(z0.index[0] - timedelta(14), z0.index[-1] + timedelta(35))\n",
    "    fig.suptitle(f\"EuroMOMO Mortalitäts-Z-Score je Woche für {grpname(grp)} in {country} bis {endd}\", y=0.95)\n",
    "    fig.legend(loc=\"upper center\", frameon=False, bbox_to_anchor=(0.5, 0.93), ncol=4)\n",
    "    # ax.set_xlabel(\"Datum (Kalenderwoche)\")\n",
    "    ax.set_ylabel(\"Z-Score (Standardabweichungen)\")\n",
    "    stampit(fig)\n",
    "\n",
    "\n",
    "def draw_detail_cmp(cmps):\n",
    "    ncols = 3 if len(cmps) > 10 else 2 if len(cmps) > 2 else 1\n",
    "    kws = {\"figsize\": (10, 10) if len(cmps) < 10 else (10, 15)} if len(cmps) > 4 else {}\n",
    "    fig = plt.Figure(**kws)\n",
    "    figh = fig.get_size_inches()[1]\n",
    "    print(figh)\n",
    "    axs = fig.subplots(nrows=(len(cmps) + ncols - 1) // ncols, ncols=ncols, squeeze=False, sharex=True, sharey=True)\n",
    "    fig.subplots_adjust(wspace=0.1, top=0.94)\n",
    "    if len(set(c[0] for c in cmps)) == 1:\n",
    "        titlefmt = \"{grp}\"\n",
    "        extratitle = \" in \" + next(iter(cmps))[0]\n",
    "    elif len(set(c[1] for c in cmps)) == 1:\n",
    "        titlefmt = \"{country}\"\n",
    "        extratitle = \", \" + grpname(next(iter(cmps))[1]) + \",\"\n",
    "    else:\n",
    "        titlefmt = \"{grp} in {country}\"\n",
    "        extratitle = \"\"\n",
    "\n",
    "    for (country, grp), ax in zip(cmps, axs.flat):\n",
    "        z0 = draw_detail_ax(country, grp, ax, smallmode=ncols >= 3)\n",
    "        if ax is axs.flat[0]:\n",
    "            endd = z0.index[-1].strftime(\"KW%V %G\")\n",
    "            ax.set_xlim(z0.index[0] - timedelta(14), z0.index[-1] + timedelta(35))\n",
    "            fig.suptitle(\n",
    "                f\"EuroMOMO Mortalitäts-Z-Score{extratitle} je Woche bis {endd}\",\n",
    "                y=0.98 if figh > 10 else 1 if figh > 9 else 1.04,\n",
    "            )\n",
    "            fig.legend(\n",
    "                loc=\"upper center\",\n",
    "                frameon=False,\n",
    "                bbox_to_anchor=(0.5, 0.975 if figh > 10 else 0.99 if figh > 9 else 1.02),\n",
    "                ncol=4,\n",
    "            )\n",
    "        # if ax in axs[-1]:\n",
    "        #    ax.set_xlabel(\"Datum (Kalenderwoche)\")\n",
    "        if ax in axs.T[0]:\n",
    "            ax.set_ylabel(\"Z-Score\")\n",
    "        ax.set_title(titlefmt.format(grp=grpname(grp), country=country), y=0.97 if ncols < 3 else 0.94)\n",
    "    if ncols > 2:\n",
    "        fig.autofmt_xdate()\n",
    "    stampit(fig)\n",
    "    return fig, axs\n",
    "\n",
    "\n",
    "if True:\n",
    "    grp = \"0to14\"\n",
    "    draw_detail(\"ALL\", grp)\n",
    "    # fig, axs = draw_detail_cmp([((\"Austria\", grp), (\"Germany\", grp), (\"Switzerland\",grp), (\"Pooled\", grp))])\n",
    "    fig, axs = draw_detail_cmp(\n",
    "        [(cntry, grp) for cntry in zs.index.get_level_values(\"country\").unique() if cntry != \"ALL\"]\n",
    "    )\n",
    "    plt.setp(axs, ylim=(max(-3, axs.flat[0].get_ylim()[0]), min(axs.flat[0].get_ylim()[1], 16)))\n",
    "    display(fig)"
   ]
  },
  {
   "cell_type": "code",
   "execution_count": null,
   "id": "0c57883f",
   "metadata": {
    "ExecuteTime": {
     "end_time": "2023-02-12T10:04:39.170072Z",
     "start_time": "2023-02-12T10:04:39.152234Z"
    }
   },
   "outputs": [],
   "source": [
    "zs.index.get_level_values(\"country\").unique()"
   ]
  },
  {
   "cell_type": "code",
   "execution_count": null,
   "id": "604b4c4c",
   "metadata": {
    "ExecuteTime": {
     "end_time": "2023-02-12T10:08:30.431612Z",
     "start_time": "2023-02-12T10:08:29.242943Z"
    }
   },
   "outputs": [],
   "source": [
    "cntry = \"Austria\"\n",
    "fig, axs = draw_detail_cmp([(cntry, grp) for grp in zs.index.get_level_values(\"group\").unique()])\n",
    "plt.setp(axs, ylim=(-3.5, None))\n",
    "display(fig)"
   ]
  },
  {
   "cell_type": "code",
   "execution_count": null,
   "id": "8edf7794",
   "metadata": {
    "ExecuteTime": {
     "end_time": "2023-02-12T10:04:42.578070Z",
     "start_time": "2023-02-12T10:04:40.547845Z"
    }
   },
   "outputs": [],
   "source": [
    "grp = \"Total\"\n",
    "fig, axs = draw_detail_cmp([(\"Austria\", grp), (\"Germany\", grp), (\"Switzerland\", grp), (\"Italy\", grp)])\n",
    "plt.setp(axs, ylim=(-3, None))\n",
    "display(fig)\n",
    "\n",
    "fig, axs = draw_detail_cmp([(\"Finland\", grp), (\"Sweden\", grp), (\"Denmark\", grp), (\"Norway\", grp)])\n",
    "display(fig)"
   ]
  },
  {
   "cell_type": "code",
   "execution_count": null,
   "id": "52c68f0a",
   "metadata": {
    "ExecuteTime": {
     "end_time": "2023-02-12T10:04:43.109041Z",
     "start_time": "2023-02-12T10:04:42.581080Z"
    }
   },
   "outputs": [],
   "source": [
    "zmean = zs.groupby([\"country\", \"group\"]).transform(lambda s: s.rolling(52).mean())"
   ]
  },
  {
   "cell_type": "code",
   "execution_count": null,
   "id": "c38207e4",
   "metadata": {
    "ExecuteTime": {
     "end_time": "2023-02-12T10:04:44.243351Z",
     "start_time": "2023-02-12T10:04:43.117038Z"
    }
   },
   "outputs": [],
   "source": [
    "data_end = zmean.index.get_level_values(\"week\").max() - timedelta(7 * 3)\n",
    "zm0 = (\n",
    "    zmean.to_frame().query(\"country != 'ALL'\")\n",
    "    # .query(\"country in ('Germany', 'Switzerland', 'Austria', 'Sweden', 'Finland', 'Norway', 'Denmark')\")\n",
    "    .xs(\"Total\", level=\"group\")\n",
    ").reset_index()\n",
    "zm0 = zm0[zm0[\"week\"] <= data_end].dropna()\n",
    "colors = sns.color_palette(\"cet_glasbey_dark\", n_colors=zm0[\"country\"].nunique())\n",
    "ax = sns.lineplot(zm0, hue=\"country\", y=\"zscore\", x=\"week\", legend=False, palette=colors)\n",
    "fig = ax.figure\n",
    "ax.axhline(0, color=\"grey\")\n",
    "ax.axhspan(-2, 2, alpha=0.06, zorder=0)\n",
    "ax.axhspan(-1, 1, alpha=0.06, zorder=0)\n",
    "# ax.axhline(4, color=\"r\", ls=\":\")\n",
    "cov.labelend2(ax, zm0, \"zscore\", x=\"week\", cats=\"country\", shorten=lambda c: c, colorize=colors)\n",
    "ax.set_xlim(left=zm0[\"week\"].min())\n",
    "ax.set_ylim(bottom=-1.1)\n",
    "fig.suptitle(\n",
    "    \"EuroMOMO Mortalitäts-Z-Score, Altersgruppe 15‒44, 52-Wochen-Schnitt bis \" + data_end.strftime(\"KW %V %G*\"), y=0.94\n",
    ")\n",
    "ax.set_title(\n",
    "    \"*letzte 2 Wochen wegen Unvollständigkeit weggelassen, Datenstand \"\n",
    "    + zmean.index.get_level_values(\"week\").max().strftime(\"KW %V %G\"),\n",
    "    y=1,\n",
    "    fontsize=\"medium\",\n",
    ")\n",
    "stampit(fig)\n",
    "ax.set_ylabel(\"Z-Score (Standardabweichungen)\")\n",
    "ax.annotate(\"Normaler Bereich (für Einzelwochen): ‒2 bis +2\", (ax.get_xlim()[0], 2))\n",
    "ax.set_xlabel(None)"
   ]
  },
  {
   "cell_type": "code",
   "execution_count": null,
   "id": "ee337e47",
   "metadata": {
    "ExecuteTime": {
     "end_time": "2023-02-12T10:14:06.494047Z",
     "start_time": "2023-02-12T10:14:04.211602Z"
    }
   },
   "outputs": [],
   "source": [
    "zs17 = zs.loc[zs.index.get_level_values(\"week\").isocalendar().year.to_numpy() >= 2016]\n",
    "zs17 = zs17.loc[zs17.index.get_level_values(\"week\").isocalendar().year.to_numpy() < 2024]\n",
    "zscat = zs17.groupby(\n",
    "    [\n",
    "        zs17.index.get_level_values(\"country\"),\n",
    "        zs17.index.get_level_values(\"group\"),\n",
    "        zs17.index.get_level_values(\"week\").isocalendar().year.to_numpy(),\n",
    "    ]\n",
    ").agg(\n",
    "    **{\n",
    "        \"Substantiell erhöht (>4)\": lambda s: (4 < s).sum(),\n",
    "        \"Oberhalb des Normalbereichs (>2)\": lambda s: s.between(2, 4, inclusive=\"right\").sum(),\n",
    "        \"Überdurchschnittlich (im Normalbereich)\": lambda s: s.between(0, 2, inclusive=\"right\").sum(),\n",
    "        \"Durchschitt oder darunter (<= 0)\": lambda s: (s <= 0).sum(),\n",
    "    }\n",
    ")"
   ]
  },
  {
   "cell_type": "code",
   "execution_count": null,
   "id": "945f6fe0",
   "metadata": {
    "ExecuteTime": {
     "end_time": "2023-02-12T10:45:02.860877Z",
     "start_time": "2023-02-12T10:45:02.852860Z"
    }
   },
   "outputs": [],
   "source": [
    "zscat.index.get_level_values(2).max()"
   ]
  },
  {
   "cell_type": "code",
   "execution_count": null,
   "id": "07a3c912",
   "metadata": {
    "ExecuteTime": {
     "end_time": "2023-02-12T16:35:22.381500Z",
     "start_time": "2023-02-12T16:35:09.905458Z"
    }
   },
   "outputs": [],
   "source": [
    "from logging import getLogger\n",
    "\n",
    "def plt_y_cats_ax(country, grp, ax):\n",
    "    with cov.with_palette(sns.color_palette(\"Reds_r\", n_colors=3) + [\"b\"]):\n",
    "        try:\n",
    "            pdata = zscat.xs(grp, level=\"group\").xs(country, level=\"country\")\n",
    "        except KeyError as exc:\n",
    "            getLogger(__name__).warning(\"Error plotting %s/%s: %r\", country, grp, exc)\n",
    "            return\n",
    "        pdata.plot.bar(stacked=True, ax=ax, lw=0)\n",
    "    ax.get_legend().remove()\n",
    "\n",
    "\n",
    "def plt_y_cats(country, grp):\n",
    "    # display(pdata.xs(\"Total\", level=\"group\"))\n",
    "    fig, ax = plt.subplots()\n",
    "    plt_y_cats_ax(country, grp, ax)\n",
    "    ax.legend(loc=\"upper left\")\n",
    "    # fig = ax.figure\n",
    "    fig.suptitle(\n",
    "        f\"{grpname(grp)} in {country}: \" + \"Übersterblichkeit pro Jahr und Kalenderwoche (EuroMOMO Z-Scores)\", y=0.93\n",
    "    )\n",
    "\n",
    "\n",
    "def draw_ycats_cmp(cmps):\n",
    "    ncols = 3 if len(cmps) > 10 else 2 if len(cmps) > 2 else 1\n",
    "    kws = {\"figsize\": (10, 10) if len(cmps) < 10 else (10, 15)} if len(cmps) > 4 else {}\n",
    "    fig = plt.Figure(**kws)\n",
    "    figh = fig.get_size_inches()[1]\n",
    "    print(figh)\n",
    "    axs = fig.subplots(nrows=(len(cmps) + ncols - 1) // ncols, ncols=ncols, squeeze=False, sharex=True, sharey=True)\n",
    "    fig.subplots_adjust(wspace=0.1, top=0.94, hspace=0.25)\n",
    "    if len(set(c[0] for c in cmps)) == 1:\n",
    "        titlefmt = \"{grp}\"\n",
    "        extratitle = \" in \" + next(iter(cmps))[0]\n",
    "    elif len(set(c[1] for c in cmps)) == 1:\n",
    "        titlefmt = \"{country}\"\n",
    "        extratitle = \", \" + grpname(next(iter(cmps))[1]) + \",\"\n",
    "    else:\n",
    "        titlefmt = \"{grp} in {country}\"\n",
    "        extratitle = \"\"\n",
    "\n",
    "    for (country, grp), ax in zip(cmps, axs.flat):\n",
    "        plt_y_cats_ax(country, grp, ax)\n",
    "        if ax is axs.flat[0]:\n",
    "            # endd = z0.index[-1].strftime(\"KW%V %G\")\n",
    "            # ax.set_xlim(z0.index[0] - timedelta(14), z0.index[-1] + timedelta(35))\n",
    "            fig.suptitle(\n",
    "                f\"EuroMOMO Mortalitäts-Z-Score{extratitle} Kategorien je Jahr\",\n",
    "                y=0.995 if figh > 10 else 1.02 if figh > 9 else 1.07,\n",
    "            )\n",
    "            fig.legend(\n",
    "                loc=\"upper center\",\n",
    "                frameon=False,\n",
    "                bbox_to_anchor=(0.5, 0.99 if figh > 10 else 1.015 if figh > 9 else 1.06),\n",
    "                ncol=2,\n",
    "            )\n",
    "        # if ax in axs[-1]:\n",
    "        #    ax.set_xlabel(\"Datum (Kalenderwoche)\")\n",
    "        if ax in axs.T[0]:\n",
    "            ax.set_ylabel(\"Anzahl Kalenderwochen\" if ncols <= 2 else \"Anz. KWs\")\n",
    "        # ax.yaxis.set_major_locator(matplotlib.ticker.MaxNLocator(5, min_n_ticks=3, integer=True))\n",
    "        ax.set_title(titlefmt.format(grp=grpname(grp), country=country), y=0.97 if ncols < 3 else 0.94)\n",
    "    xlim = (zscat.index.get_level_values(2).min(), zscat.index.get_level_values(2).max())\n",
    "    # print(xlim)\n",
    "    # print(axs.flat[0].get_xlim())\n",
    "    axs.flat[0].set_xlim(right=xlim[1] - xlim[0] + 0.5)\n",
    "    plt.setp(\n",
    "        axs[-1],\n",
    "        xticks=list(range(xlim[1] - xlim[0] + 1)),\n",
    "        xticklabels=[str(y) for y in zscat.index.get_level_values(2).unique()],\n",
    "    )\n",
    "    if figh >= 15:\n",
    "        axs.flat[0].set_yticks([0, 25, 50])\n",
    "        fig.autofmt_xdate()\n",
    "    stampit(fig)\n",
    "    return fig, axs\n",
    "\n",
    "\n",
    "if False:\n",
    "    grp = \"Total\"\n",
    "    fig, axs = draw_ycats_cmp(\n",
    "        [\n",
    "            (\"Austria\", grp),\n",
    "            (\"Germany\", grp),\n",
    "            (\"Switzerland\", grp),\n",
    "            (\"Sweden\", grp),\n",
    "            # (\"Sweden\", grp), (\"Finland\", grp), (\"Denmark\",grp), (\"Israel\", grp),\n",
    "        ]\n",
    "    )\n",
    "    display(fig)\n",
    "\n",
    "    cntry = \"Austria\"\n",
    "    fig, axs = draw_ycats_cmp(\n",
    "        [\n",
    "            (cntry, grp)\n",
    "            for grp in zs17.index.get_level_values(\"group\").unique()\n",
    "            # (\"Sweden\", grp), (\"Finland\", grp), (\"Denmark\",grp), (\"Israel\", grp),\n",
    "        ]\n",
    "    )\n",
    "    display(fig)\n",
    "\n",
    "if True:\n",
    "    grp = \"Total\"\n",
    "    fig, axs = draw_ycats_cmp([(cntry, grp) for cntry in zs17.index.get_level_values(\"country\").unique()])\n",
    "    display(fig)\n",
    "\n",
    "if False:\n",
    "    # plt.setp(axs, ylim=(-3, None))\n",
    "    plt_y_cats(\"Austria\", \"Total\")\n",
    "    plt_y_cats(\"Germany\", \"Total\")\n",
    "    plt_y_cats(\"ALL\", \"Total\")"
   ]
  },
  {
   "cell_type": "code",
   "execution_count": null,
   "id": "c3b56f86",
   "metadata": {},
   "outputs": [],
   "source": []
  }
 ],
 "metadata": {
  "kernelspec": {
   "display_name": "Python 3 (ipykernel)",
   "language": "python",
   "name": "python3"
  },
  "language_info": {
   "codemirror_mode": {
    "name": "ipython",
    "version": 3
   },
   "file_extension": ".py",
   "mimetype": "text/x-python",
   "name": "python",
   "nbconvert_exporter": "python",
   "pygments_lexer": "ipython3",
   "version": "3.11.4"
  }
 },
 "nbformat": 4,
 "nbformat_minor": 5
}
